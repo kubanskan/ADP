{
 "cells": [
  {
   "cell_type": "markdown",
   "id": "6c9afb94",
   "metadata": {
    "deletable": false,
    "editable": false,
    "nbgrader": {
     "cell_type": "markdown",
     "checksum": "4bc4ef312ccdd965a2df57a87c78b2a4",
     "grade": false,
     "grade_id": "cell-fcd2666579131b77",
     "locked": true,
     "schema_version": 3,
     "solution": false,
     "task": false
    },
    "tags": []
   },
   "source": [
    "# Analiza danych przestrzennych - ćwiczenia laboratoryjne 2023/2024\n",
    "\n",
    "Ten notatnik zalicza się do grupy zestawów zadań, na podstawie których odbywa się zaliczenie ćwiczeń i podlega zwrotowi do oceny w ustalonym na zajęciach terminie.\n",
    "\n",
    "Uwagi i wytyczne ogólne dotyczące uzupełniania i oceny notatnika:\n",
    "- Podczas wykonywania zadań należy korzystać wyłącznie z pakietów zaimportowanych na początku notatnika oraz z pakietów wchodzących w skład standardowej biblioteki Pythona, które można zaimportować samodzielnie we wskazanej komórce notatnika.\n",
    "- Swoje rozwiązania należy wprowadzać wyłącznie w miejce następujących fragmentów kodu:<br/> `# YOUR CODE HERE`<br/> `raise NotImplementedError()`<br/> \n",
    "a odpowiedzi tekstowe w komórkach oznaczonych hasłem:<br/> \n",
    "`YOUR ANSWER HERE`<br/> \n",
    "Nie należy w żaden sposób modyfikować pozostałych fragmentów kodu oraz innych elementów notatnika, w szczególności dodawać lub usuwać komórek oraz zmieniać nazwy pliku.\n",
    "- Jeżeli zestaw zadań wymaga skorzystania z fragmentów kodu opracowanego w ramach wcześniejszych zestawów zadań należy je umieścić we wskazanej komórce notatnika.\n",
    "- Otrzymywane wyniki i odpowiedzi mają być rezultatem wykonania napisanego kodu, odpowiedzi uzupełniane manualnie nie podlegają ocenie.\n",
    "- Zawarte w notatniku automatyczne testy mają charakter poglądowy. Dotyczą one wybranych aspektów zadań i mają na celu wyłapać podstawowe błędy. Przejście przez kod wszystkich testów nie oznacza, że zadanie jest wykonane w całości poprawnie i zostanie ocenione na maksymalną liczbę punktów.\n",
    "- Zadania należy wykonać w taki sposób, aby podczas wykonywania kodu nie zostały wyświetlone żadne ostrzeżenia.\n",
    "- Zadania, które powodują wyświetlenie komunikatu o błędzie przerywającym wykonywanie kodu nie podlegają ocenie.\n",
    "\n",
    "Uwagi i wytyczne ogólne dotyczące wizualizacji wyników:\n",
    "- Wszystkie wykresy powinny być wykonane w jednolitym, przejrzystym i czytelnym stylu, posiadać odpowiednio dobrane proporcje i zakresy wartości osi.\n",
    "- Figury powinny mieć ustawione białe tło, tak, aby niezależnie od ustawień notatnika wszystkie elementy wykresów były dobrze widoczne (domyślnie tło jest przeźroczyste co może powodować problemy w notatnikach z ustawionym ciemnym tłem). Rozmiar poziomy figur nie powinien przekraczać 20 cali.\n",
    "- Wykresy oraz ich osie powinny mieć nadane tytuły. Jeżeli w obrębie figury znajduje się więcej niż jeden wykres to figura również powinna mieć nadany tytuł.\n",
    "- Zakresy osi wykresów przedstawiających rozkłady punktów w przestrzeni powinny być docięte do granic obszaru, na którym został wygenerowany proces punktowy.\n",
    "- Proporcje osi wykresów przedstawiających rozkłady punktów w przestrzeni powinny być dobrane tak, aby wykresy odzwierciedlały rzeczywisty rozkład punktów w przestrzeni. Nie należy osiągać tego efektu manipulując rozmiarem całej figury.\n",
    "\n",
    "Przed odesłaniem zestawu zadań do oceny proszę uzupełnić komórkę z danymi autorów rozwiązania (nazwa zespołu oraz imiona, nazwiska i numery indeksów członków zespołu) oraz upewnić się, że notatnik działa zgodnie z oczekiwaniami. W tym celu należy skorzystać z opcji **Restart Kernel and Run All Cells...** dostępnej na górnej belce notatnika pod symbolem $\\blacktriangleright\\blacktriangleright$."
   ]
  },
  {
   "cell_type": "raw",
   "id": "f01ea353",
   "metadata": {},
   "source": [
    "Nazwa zespołu: IAD22\n",
    "Członkowie: Natalia Kubańska 411933, Nadia Napruszewska 411381, Kamila Żur 409777"
   ]
  },
  {
   "cell_type": "markdown",
   "id": "d19712ba",
   "metadata": {
    "deletable": false,
    "editable": false,
    "nbgrader": {
     "cell_type": "markdown",
     "checksum": "eddc8826810e4a6f7bf68319da334bd9",
     "grade": false,
     "grade_id": "cell-109006d425e5cf83",
     "locked": true,
     "schema_version": 3,
     "solution": false,
     "task": false
    },
    "tags": []
   },
   "source": [
    "---"
   ]
  },
  {
   "cell_type": "markdown",
   "id": "09ae627f-7781-432c-92be-054e5c5f19d0",
   "metadata": {
    "deletable": false,
    "editable": false,
    "nbgrader": {
     "cell_type": "markdown",
     "checksum": "e367659684a10dc865f85e090d3fcdaa",
     "grade": false,
     "grade_id": "cell-be413733df21fa86",
     "locked": true,
     "schema_version": 3,
     "solution": false,
     "task": false
    },
    "tags": []
   },
   "source": [
    "## Zestaw zadań 8: Analiza danych przestrzennych z wykorzystaniem dedykowanych pakietów (część 2)"
   ]
  },
  {
   "cell_type": "code",
   "execution_count": 1,
   "id": "1d9566ae-0c1b-4f68-9203-c5924a3651ae",
   "metadata": {
    "deletable": false,
    "editable": false,
    "nbgrader": {
     "cell_type": "code",
     "checksum": "10825f8e9524da62cc7b110af8609cda",
     "grade": false,
     "grade_id": "cell-baaf088fa7f91aec",
     "locked": true,
     "schema_version": 3,
     "solution": false,
     "task": false
    },
    "tags": []
   },
   "outputs": [],
   "source": [
    "import numpy as np\n",
    "import pandas as pd\n",
    "import scipy as sp\n",
    "import matplotlib as mpl\n",
    "import matplotlib.pyplot as plt\n",
    "import seaborn as sns\n",
    "import geopandas as gpd"
   ]
  },
  {
   "cell_type": "code",
   "execution_count": 2,
   "id": "316bb8bc-c226-49f2-9e30-21fcf0edd040",
   "metadata": {},
   "outputs": [],
   "source": [
    "# Miejsce do importu pakietów wchodzących w skład standardowej biblioteki Pythona oraz ustawienie opcji wykorzystywanych pakietów"
   ]
  },
  {
   "cell_type": "code",
   "execution_count": 3,
   "id": "c6aefef5-b6e6-4e97-a057-747d6510634c",
   "metadata": {
    "deletable": false,
    "nbgrader": {
     "cell_type": "code",
     "checksum": "1c0ed5d4c6a1c4bf85af66d7981d9ae4",
     "grade": false,
     "grade_id": "cell-39e468ed0fe5cb73",
     "locked": false,
     "schema_version": 3,
     "solution": true,
     "task": false
    },
    "tags": []
   },
   "outputs": [],
   "source": [
    "# Miejsce do wklejenie funkcji ze wcześniejszych zestawów zadań\n",
    "# YOUR CODE HERE\n",
    "def thomas_on_rectangle(parent_intensity, mean_cluster_size, cluster_sigma, x_lim, y_lim):\n",
    "    \"\"\"\n",
    "    Parameters\n",
    "    -------\n",
    "    parent_intensity: float\n",
    "        Liczba dodatnia określająca intensywność macierzystego procesu punktowego.\n",
    "    mean_cluster_size: float\n",
    "        Liczba dodatnia określająca oczekiwaną liczebność generowanych klastrów.\n",
    "    cluster_sigma: float\n",
    "        Liczba dodatnia określająca odchylenie standardowe rozkładu wykorzystywanego w procesie generowania klastrów.\n",
    "    x_lim: list\n",
    "        Lista określająca zakres wartości współrzędnej X.\n",
    "        Przykład: [0, 10]\n",
    "    y_lim: list\n",
    "        Lista określająca zakres wartości współrzędnej Y.\n",
    "        Przykład: [0, 10]\n",
    "        \n",
    "    Returns\n",
    "    -------\n",
    "    points: DataFrame\n",
    "        Tablica zawierająca dwie kolumny ze współrzędnymi punktów opisane jako \"X\" i \"Y\".\n",
    "    \"\"\"\n",
    "    # generate centers of clusters in broadened area\n",
    "    centers = homogeneous_poisson_on_rectangle( parent_intensity, [x_lim[0] - 4 * cluster_sigma, x_lim[1] + 4 * cluster_sigma],\n",
    "                                               [y_lim[0] - 4 * cluster_sigma, y_lim[1] + 4 * cluster_sigma] )\n",
    "    \n",
    "    # create empty dataframe to store points coords\n",
    "    points = pd.DataFrame( columns= [\"X\", \"Y\"] )\n",
    "\n",
    "    # draw points for each cluster center from normal distribution\n",
    "    for center in centers.itertuples():\n",
    "        # draw number of points for cluster from Poisson distribution\n",
    "        n_points = np.random.poisson(mean_cluster_size)\n",
    "\n",
    "        # draw points coord from normal distribution\n",
    "        x_points = np.random.normal( center.X, cluster_sigma, n_points )\n",
    "        y_points = np.random.normal( center.Y, cluster_sigma, n_points )\n",
    "        \n",
    "        # append to result dataframe\n",
    "        xy_df = pd.DataFrame( { \"X\" : x_points, \"Y\" : y_points } )\n",
    "        points = pd.concat( [xy_df, points] )\n",
    "    \n",
    "    # narrow area to original size\n",
    "    points = points[ (points[\"X\"] >= x_lim[0]) & (points[\"X\"] <= x_lim[1]) & (points[\"Y\"] >= y_lim[0]) & (points[\"Y\"] <= y_lim[1]) ]\n",
    "    return points\n",
    "\n",
    "\n",
    "def homogeneous_poisson_on_rectangle(intensity, x_lim, y_lim):\n",
    "    \"\"\"\n",
    "    # liczba punktów intensywnosc-srednia oczekiwana wartosc w danym kwadraciku \n",
    "    # intensywnosc* Pole powierzchni - argument do funkcji z ktorej wyciagamy wartoscliczby puntkow  z rozkladu poissona \n",
    "    ich lokalizacja jest z rozkladu normalnego \n",
    "    Parameters\n",
    "    \n",
    "    im nisza intensywnosc funkcji intensywnosci 1-i/imax  (0,1) \n",
    "    R(x,y)=x\n",
    "    ------- \n",
    "    intensity: float\n",
    "        Liczba dodatnia określająca intensywność procesu punktowego.\n",
    "    x_lim: list\n",
    "        Lista określająca zakres wartości współrzędnej X.\n",
    "        Przykład: [0, 10]\n",
    "    y_lim: list\n",
    "        Lista określająca zakres wartości współrzędnej Y.\n",
    "        Przykład: [0, 10]   \n",
    "    \n",
    "    Returns\n",
    "    -------\n",
    "    points: DataFrame\n",
    "        Tablica zawierająca dwie kolumny ze współrzędnymi punktów opisane jako \"X\" i \"Y\".\n",
    "    \"\"\"\n",
    "\n",
    "    # calculate area to generate points on\n",
    "    area = ( x_lim[1] - x_lim[0] ) * ( y_lim[1] - y_lim[0] )\n",
    "\n",
    "    # draw number of points from Poisson distribution\n",
    "    n_points = np.random.poisson( area * intensity, 1 )\n",
    "\n",
    "    # draw points coordinates from uniform distribution\n",
    "    x_points = np.random.uniform( x_lim[0], x_lim[1], n_points ) \n",
    "    y_points = np.random.uniform( y_lim[0], y_lim[1], n_points )\n",
    "\n",
    "    # create dataframe out of coordinates\n",
    "    points = pd.DataFrame( { \"X\" : x_points, \"Y\" : y_points } )\n",
    "\n",
    "    return points"
   ]
  },
  {
   "cell_type": "markdown",
   "id": "5d7f1ca0-2e1a-4055-88f1-4cec10044e8e",
   "metadata": {
    "deletable": false,
    "editable": false,
    "nbgrader": {
     "cell_type": "markdown",
     "checksum": "9d8c0bc3ccddf7f2856ebbc083f76222",
     "grade": false,
     "grade_id": "cell-ae591fe91a6a8d4a",
     "locked": true,
     "schema_version": 3,
     "solution": false,
     "task": false
    },
    "tags": []
   },
   "source": [
    "### Wczytanie danych\n",
    "\n",
    "Załączone do notatnika pliki zawierają dane niezbędne do wykonania zadań oraz dane wykorzystywane w zawartych w notatniku automatycznych testach. W celu wczytania danych do notatnika umieść pliki w tym samym folderze, w którym znajduje się notatnik."
   ]
  },
  {
   "cell_type": "code",
   "execution_count": 4,
   "id": "83d4e115-a14f-43ea-a288-7ad9a8d9d4d0",
   "metadata": {
    "deletable": false,
    "editable": false,
    "nbgrader": {
     "cell_type": "code",
     "checksum": "b3fa0bd1e9f0e4f82239dc7e4810ce01",
     "grade": false,
     "grade_id": "cell-fe3b563eea77b4e1",
     "locked": true,
     "schema_version": 3,
     "solution": false,
     "task": false
    },
    "tags": []
   },
   "outputs": [],
   "source": [
    "# Wczytanie danych\n",
    "data = gpd.read_file(\"data.zip\", encoding=\"utf-8\")\n",
    "test_data_1 = gpd.read_file(\"test_data_1.zip\", encoding=\"utf-8\")\n",
    "test_data_2 = gpd.read_file(\"test_data_2.zip\", encoding=\"utf-8\")\n",
    "test_points = gpd.read_file(\"test_points.zip\", encoding=\"utf-8\")"
   ]
  },
  {
   "cell_type": "markdown",
   "id": "6e6c596a-7fc9-4d60-a123-4df54d275431",
   "metadata": {
    "deletable": false,
    "editable": false,
    "nbgrader": {
     "cell_type": "markdown",
     "checksum": "7f7e720e66d454a150cb788c58cf9ea0",
     "grade": false,
     "grade_id": "cell-16375ae779c89bad",
     "locked": true,
     "schema_version": 3,
     "solution": false,
     "task": false
    },
    "tags": []
   },
   "source": [
    "### Zadanie 1: Przygotowanie danych (7 pkt)\n",
    "\n",
    "#### a) Przygotowanie danych wejściowych\n",
    "\n",
    "Wykorzystując dane zawarte w zmiennej `data` przygotuj następujące tablice:\n",
    "\n",
    "1) Tablica `powiaty` zawierająca następujące kolumny:\n",
    "    - \"Nazwa\" - nazwy powiatów\n",
    "    - \"geometry\" - geometria obiektów\n",
    "<br/>\n",
    "<br/>\n",
    "2) Tablica `wojewodztwa` zawierająca następujące kolumny:\n",
    "    - \"Nazwa\" - nazwy województw\n",
    "    - \"geometry\" - geometria obiektów\n",
    "<br/>\n",
    "<br/>\n",
    "3) Tablica `kraj` zawierająca następujące kolumny:\n",
    "    - \"Nazwa\" - nazwa kraju\n",
    "    - \"geometry\" - geometria obiektu\n",
    "\n",
    "\n",
    "Wyświetl przygotowane tablice.\n",
    "\n",
    "Uwagi do wykonania zadania:\n",
    " - Podczas konstrukcji tablic zawierających geometrie województw i kraju wykorzystaj funkcję `geopandas.GeoDataFrame.dissolve()`."
   ]
  },
  {
   "cell_type": "code",
   "execution_count": 5,
   "id": "82c34913-fbcb-4f2b-959e-4c20e8950d7d",
   "metadata": {
    "deletable": false,
    "nbgrader": {
     "cell_type": "code",
     "checksum": "e19c874fca9e99207153d93def322c10",
     "grade": false,
     "grade_id": "cell-4b70c40a408eaeda",
     "locked": false,
     "schema_version": 3,
     "solution": true,
     "task": false
    },
    "tags": []
   },
   "outputs": [],
   "source": [
    "# Powiaty\n",
    "# YOUR CODE HERE\n",
    "powiaty = data[['pow','geometry']]\n",
    "powiaty.columns = ['Nazwa', 'geometry']"
   ]
  },
  {
   "cell_type": "code",
   "execution_count": 6,
   "id": "fb5de6cd",
   "metadata": {},
   "outputs": [
    {
     "data": {
      "text/html": [
       "<div>\n",
       "<style scoped>\n",
       "    .dataframe tbody tr th:only-of-type {\n",
       "        vertical-align: middle;\n",
       "    }\n",
       "\n",
       "    .dataframe tbody tr th {\n",
       "        vertical-align: top;\n",
       "    }\n",
       "\n",
       "    .dataframe thead th {\n",
       "        text-align: right;\n",
       "    }\n",
       "</style>\n",
       "<table border=\"1\" class=\"dataframe\">\n",
       "  <thead>\n",
       "    <tr style=\"text-align: right;\">\n",
       "      <th></th>\n",
       "      <th>pow</th>\n",
       "      <th>woj</th>\n",
       "      <th>geometry</th>\n",
       "    </tr>\n",
       "  </thead>\n",
       "  <tbody>\n",
       "    <tr>\n",
       "      <th>0</th>\n",
       "      <td>ropczycko-sędziszowski</td>\n",
       "      <td>podkarpackie</td>\n",
       "      <td>POLYGON ((692305.365 260282.248, 692313.646 26...</td>\n",
       "    </tr>\n",
       "    <tr>\n",
       "      <th>1</th>\n",
       "      <td>łosicki</td>\n",
       "      <td>mazowieckie</td>\n",
       "      <td>POLYGON ((753920.175 497017.076, 753918.822 49...</td>\n",
       "    </tr>\n",
       "    <tr>\n",
       "      <th>2</th>\n",
       "      <td>piaseczyński</td>\n",
       "      <td>mazowieckie</td>\n",
       "      <td>POLYGON ((644442.384 473992.041, 644345.678 47...</td>\n",
       "    </tr>\n",
       "    <tr>\n",
       "      <th>3</th>\n",
       "      <td>radomski</td>\n",
       "      <td>mazowieckie</td>\n",
       "      <td>POLYGON ((638056.482 404421.246, 638059.412 40...</td>\n",
       "    </tr>\n",
       "    <tr>\n",
       "      <th>4</th>\n",
       "      <td>sierpecki</td>\n",
       "      <td>mazowieckie</td>\n",
       "      <td>POLYGON ((534236.749 555932.727, 534235.027 55...</td>\n",
       "    </tr>\n",
       "  </tbody>\n",
       "</table>\n",
       "</div>"
      ],
      "text/plain": [
       "                      pow           woj  \\\n",
       "0  ropczycko-sędziszowski  podkarpackie   \n",
       "1                 łosicki   mazowieckie   \n",
       "2            piaseczyński   mazowieckie   \n",
       "3                radomski   mazowieckie   \n",
       "4               sierpecki   mazowieckie   \n",
       "\n",
       "                                            geometry  \n",
       "0  POLYGON ((692305.365 260282.248, 692313.646 26...  \n",
       "1  POLYGON ((753920.175 497017.076, 753918.822 49...  \n",
       "2  POLYGON ((644442.384 473992.041, 644345.678 47...  \n",
       "3  POLYGON ((638056.482 404421.246, 638059.412 40...  \n",
       "4  POLYGON ((534236.749 555932.727, 534235.027 55...  "
      ]
     },
     "execution_count": 6,
     "metadata": {},
     "output_type": "execute_result"
    }
   ],
   "source": [
    "data.head()"
   ]
  },
  {
   "cell_type": "code",
   "execution_count": 7,
   "id": "064ae1e8-58ca-4ed9-9de5-9d0170eddac2",
   "metadata": {
    "deletable": false,
    "editable": false,
    "nbgrader": {
     "cell_type": "code",
     "checksum": "6cb246f9149a80b80875357316e71c65",
     "grade": true,
     "grade_id": "cell-8dd1de76821e224d",
     "locked": true,
     "points": 1,
     "schema_version": 3,
     "solution": false,
     "task": false
    },
    "tags": []
   },
   "outputs": [],
   "source": [
    "# Komórka testowa\n",
    "assert type(powiaty) == gpd.geodataframe.GeoDataFrame\n",
    "assert powiaty.shape == (380, 2)\n",
    "assert list(powiaty.columns) == ['Nazwa', 'geometry']"
   ]
  },
  {
   "cell_type": "code",
   "execution_count": 8,
   "id": "b46cccce-2967-47cd-91fa-cf8af2dcfaf3",
   "metadata": {
    "deletable": false,
    "nbgrader": {
     "cell_type": "code",
     "checksum": "301734e49f0396c026f8cb6d4a789045",
     "grade": false,
     "grade_id": "cell-1ec742b73df9ecf7",
     "locked": false,
     "schema_version": 3,
     "solution": true,
     "task": false
    },
    "tags": []
   },
   "outputs": [],
   "source": [
    "# Województwa\n",
    "# YOUR CODE HERE\n",
    "wojewodztwa = data.dissolve('woj',sum)"
   ]
  },
  {
   "cell_type": "code",
   "execution_count": 9,
   "id": "be5d298b",
   "metadata": {},
   "outputs": [],
   "source": [
    "wojewodztwa.head()\n",
    "wojewodztwa.reset_index(inplace=True)"
   ]
  },
  {
   "cell_type": "code",
   "execution_count": 10,
   "id": "20002b71",
   "metadata": {
    "scrolled": false
   },
   "outputs": [],
   "source": [
    "wojewodztwa = wojewodztwa[['woj','geometry']]\n",
    "wojewodztwa.columns = ['Nazwa','geometry']"
   ]
  },
  {
   "cell_type": "code",
   "execution_count": 11,
   "id": "66617744-834a-4910-b93c-7289692326cf",
   "metadata": {
    "deletable": false,
    "editable": false,
    "nbgrader": {
     "cell_type": "code",
     "checksum": "99a59ffa159aabab9ea72ad65f63459b",
     "grade": true,
     "grade_id": "cell-1b200777230df3e0",
     "locked": true,
     "points": 2,
     "schema_version": 3,
     "solution": false,
     "task": false
    },
    "tags": []
   },
   "outputs": [],
   "source": [
    "# Komórka testowa\n",
    "assert type(wojewodztwa) == gpd.geodataframe.GeoDataFrame\n",
    "assert wojewodztwa.shape == (16, 2)\n",
    "assert list(wojewodztwa.columns) == ['Nazwa', 'geometry']"
   ]
  },
  {
   "cell_type": "code",
   "execution_count": 12,
   "id": "b667cda2-5f4f-4854-b367-bccf01aef801",
   "metadata": {
    "deletable": false,
    "nbgrader": {
     "cell_type": "code",
     "checksum": "083dae0f83c6feab3ab287adbf5d1331",
     "grade": false,
     "grade_id": "cell-42cec4c16482aa57",
     "locked": false,
     "schema_version": 3,
     "solution": true,
     "task": false
    },
    "tags": []
   },
   "outputs": [],
   "source": [
    "# Kraj\n",
    "# YOUR CODE HERE\n",
    "kraj = data.dissolve(aggfunc=sum)"
   ]
  },
  {
   "cell_type": "code",
   "execution_count": 13,
   "id": "fa784335",
   "metadata": {},
   "outputs": [],
   "source": [
    "kraj['Nazwa'] = 'Polska'\n",
    "kraj = kraj[['Nazwa','geometry']]"
   ]
  },
  {
   "cell_type": "code",
   "execution_count": 14,
   "id": "43d64c70-c878-4e5b-b914-7006076f5a9c",
   "metadata": {
    "deletable": false,
    "editable": false,
    "nbgrader": {
     "cell_type": "code",
     "checksum": "f905c82cfb005aec911de0bd8ac81723",
     "grade": true,
     "grade_id": "cell-9b2c0bb2335f9ce8",
     "locked": true,
     "points": 2,
     "schema_version": 3,
     "solution": false,
     "task": false
    },
    "tags": []
   },
   "outputs": [],
   "source": [
    "# Komórka testowa\n",
    "assert type(kraj) == gpd.geodataframe.GeoDataFrame\n",
    "assert kraj.shape == (1, 2)\n",
    "assert list(kraj.columns) == ['Nazwa', 'geometry']"
   ]
  },
  {
   "cell_type": "markdown",
   "id": "da2d2ebc-ad0c-4ef4-9d28-b83394a63f18",
   "metadata": {
    "deletable": false,
    "editable": false,
    "nbgrader": {
     "cell_type": "markdown",
     "checksum": "3ea1863f588155d6056ba96ae1c78bbc",
     "grade": false,
     "grade_id": "cell-b14f9bf14d3041b9",
     "locked": true,
     "schema_version": 3,
     "solution": false,
     "task": false
    },
    "tags": []
   },
   "source": [
    "#### b) Wizualizacja danych wejściowych\n",
    "\n",
    "Zwizualizuj dane wejściowe na pojedynczym wykresie tak by poszczególnej jednostki administracyjne nie posiadały wypełnienia, a ich granice były oznaczone coraz grubszymi i ciemniejszymi liniami wraz ze wzrostem ważności jednostek. Ustaw parametry wykresu oraz wizualizowanych obiektów (wielkość figury, kolory, grubość linii, wielkość punktów itp.) tak aby wygenerowana mapa była przejrzysta i czytelna."
   ]
  },
  {
   "cell_type": "code",
   "execution_count": 15,
   "id": "fc8e789f-7d5e-446c-9cff-b0545e5ae5c4",
   "metadata": {
    "deletable": false,
    "nbgrader": {
     "cell_type": "code",
     "checksum": "d2f18cbb83f9c453589199078ec9917e",
     "grade": true,
     "grade_id": "cell-9b59c3eddcdb483c",
     "locked": false,
     "points": 2,
     "schema_version": 3,
     "solution": true,
     "task": false
    },
    "tags": []
   },
   "outputs": [
    {
     "ename": "NotImplementedError",
     "evalue": "",
     "output_type": "error",
     "traceback": [
      "\u001b[1;31m---------------------------------------------------------------------------\u001b[0m",
      "\u001b[1;31mNotImplementedError\u001b[0m                       Traceback (most recent call last)",
      "Cell \u001b[1;32mIn[15], line 2\u001b[0m\n\u001b[0;32m      1\u001b[0m \u001b[38;5;66;03m# YOUR CODE HERE\u001b[39;00m\n\u001b[1;32m----> 2\u001b[0m \u001b[38;5;28;01mraise\u001b[39;00m \u001b[38;5;167;01mNotImplementedError\u001b[39;00m()\n",
      "\u001b[1;31mNotImplementedError\u001b[0m: "
     ]
    }
   ],
   "source": [
    "# YOUR CODE HERE\n",
    "raise NotImplementedError()"
   ]
  },
  {
   "cell_type": "markdown",
   "id": "8ac052d5-2bfa-4013-b571-26a5773552fe",
   "metadata": {
    "deletable": false,
    "editable": false,
    "nbgrader": {
     "cell_type": "markdown",
     "checksum": "b92648b5d14e34ca34ac773324894dd1",
     "grade": false,
     "grade_id": "cell-24bc8662210a0bbb",
     "locked": true,
     "schema_version": 3,
     "solution": false,
     "task": false
    },
    "tags": []
   },
   "source": [
    "### Zadanie 2: Adaptacja funkcji generującej proces punktowy w obrębie prostokąta (10 pkt)\n",
    "\n",
    "#### a) Przygotowanie funkcji\n",
    "\n",
    "Przygotuj funkcję `adapted_thomas_on_polygon()`, która będzie wykorzystywała funkcję `thomas_on_rectangle()` przygotową w ramach pierwszego zestawu zadań oraz możliwości pakietu geopandas do generowania procesu Thomasa w obrębie dowolnego poligonu.\n",
    "\n",
    "Uwagi do wykonania zadania:\n",
    "- Podczas wykonania zadania wykorzystaj następujące funkcje i własności: `geopandas.GeoSeries.bounds`, `geopandas.GeoSeries.from_xy()`, `geopandas.GeoSeries.set_crs()` i `geopandas.GeoSeries.within()`."
   ]
  },
  {
   "cell_type": "code",
   "execution_count": null,
   "id": "a4e5fd5a-6fef-4a35-b717-564b045c1529",
   "metadata": {
    "deletable": false,
    "nbgrader": {
     "cell_type": "code",
     "checksum": "b746687c9de5b2237d05fb872e0bbccc",
     "grade": false,
     "grade_id": "cell-838bea69a4a98cbc",
     "locked": false,
     "schema_version": 3,
     "solution": true,
     "task": false
    },
    "tags": []
   },
   "outputs": [],
   "source": [
    "def adapted_thomas_on_polygon(parent_intensity, mean_cluster_size, cluster_sigma, polygon):\n",
    "    \"\"\"\n",
    "    Parameters\n",
    "    -------\n",
    "    parent_intensity: float\n",
    "        Liczba dodatnia określająca intensywność macierzystego procesu punktowego.\n",
    "    mean_cluster_size: float\n",
    "        Liczba dodatnia określająca oczekiwaną liczebność generowanych klastrów.\n",
    "    cluster_sigma: float\n",
    "        Liczba dodatnia określająca odchylenie standardowe rozkładu wykorzystywanego w procesie generowania klastrów.\n",
    "    polygon: GeoDataFrame\n",
    "        Pojedynczy wiersz tablicy GeoPandas, zawierający w kolumnie \"geometry\" poligon, na którym mają zostać wygenerowane punkty.\n",
    "    \n",
    "    Returns\n",
    "    -------\n",
    "    points: GeoDataFrame\n",
    "        Tablica geopandas zawierająca kolumnę \"geometry\" ze współrzędnymi punktów w odwzorowaniu kartograficznym identycznym jak odwzorowanie zmiennej polygon.\n",
    "    \"\"\"\n",
    "    # YOUR CODE HERE\n",
    "    values = polygon.bounds\n",
    "    print(values)\n",
    "    df = thomas_on_rectangle(parent_intensity, mean_cluster_size, cluster_sigma,[values['minx'][0],values['maxx'][0]], [values['miny'][0], values['maxy'][0]])\n",
    "    our_crs = polygon.crs \n",
    "    points = gpd.GeoDataFrame(gpd.GeoSeries.from_xy(df['X'], df['Y'], crs=our_crs))\n",
    "    points.columns = ['geometry']\n",
    "    print(polygon['geometry'][0])\n",
    "    mask = points.within(polygon['geometry'][0]).tolist()\n",
    "    points = points[mask]\n",
    "    print(points)\n",
    "   \n",
    "    return points\n",
    "                                                                                 "
   ]
  },
  {
   "cell_type": "code",
   "execution_count": null,
   "id": "2aabad16-cd67-4e67-9d33-cb7744ffc11b",
   "metadata": {
    "deletable": false,
    "editable": false,
    "nbgrader": {
     "cell_type": "code",
     "checksum": "7da045c0ca662d4b01718f4032776ec8",
     "grade": true,
     "grade_id": "cell-d14fd03430d379e3",
     "locked": true,
     "points": 8,
     "schema_version": 3,
     "solution": false,
     "task": false
    },
    "tags": []
   },
   "outputs": [],
   "source": [
    "# Komórka testowa\n",
    "test_points_1 = adapted_thomas_on_polygon(7*10**(-10), 25, 7*10**3, test_data_1)\n",
    "assert type(test_points_1) == gpd.GeoDataFrame\n",
    "assert list(test_points_1.columns) == [\"geometry\"]\n",
    "assert np.all(test_points_1.within(test_data_1[\"geometry\"][0]))"
   ]
  },
  {
   "cell_type": "code",
   "execution_count": null,
   "id": "a6682896",
   "metadata": {},
   "outputs": [],
   "source": [
    "test_data_1['geometry'][0]\n"
   ]
  },
  {
   "cell_type": "markdown",
   "id": "34decdbc-1919-4806-a8b3-1095433f3dd7",
   "metadata": {
    "deletable": false,
    "editable": false,
    "nbgrader": {
     "cell_type": "markdown",
     "checksum": "64df95dfe7e7ecd8079629523c26802d",
     "grade": false,
     "grade_id": "cell-16da8a9a54ff3af6",
     "locked": true,
     "schema_version": 3,
     "solution": false,
     "task": false
    },
    "tags": []
   },
   "source": [
    "#### b) Wygenerowanie i wizualizacja danych\n",
    "\n",
    "Wykorzystaj przygotowaną funkcję do wygenerowania rozkładu punktów o intensywności procesu macierzystego $5 \\cdot 10^{-10} pkt/m^2$, oczekiwanej liczebności klastrów 50 i odchyleniu standardowym klastrów $7.5 \\cdot 10^3$ na obszarze województwa mazowieckiego.\n",
    "\n",
    "Zwizualizuj wyniki w postaci wykresu punktowego nałożonego na kontury granic województw. Ustaw parametry wykresu oraz wizualizowanych obiektów (wielkość figury, kolory, grubość linii, wielkość punktów itp.) tak aby wygenerowana mapa była przejrzysta i czytelna."
   ]
  },
  {
   "cell_type": "code",
   "execution_count": null,
   "id": "e7493547-f3a6-4174-be36-4fd2e6505799",
   "metadata": {
    "deletable": false,
    "nbgrader": {
     "cell_type": "code",
     "checksum": "2fe7b54413f673c3e34d7e1087122989",
     "grade": true,
     "grade_id": "cell-a30d482cc6091eff",
     "locked": false,
     "points": 2,
     "schema_version": 3,
     "solution": true,
     "task": false
    },
    "tags": []
   },
   "outputs": [],
   "source": [
    "# YOUR CODE HERE\n",
    "raise NotImplementedError()"
   ]
  },
  {
   "cell_type": "markdown",
   "id": "1a1467f6-2cab-4ba8-9b33-35ef815424ea",
   "metadata": {
    "deletable": false,
    "editable": false,
    "nbgrader": {
     "cell_type": "markdown",
     "checksum": "0d881c3bb1a74f945ba3b03fcf8ee82d",
     "grade": false,
     "grade_id": "cell-625a546ba20f1906",
     "locked": true,
     "schema_version": 3,
     "solution": false,
     "task": false
    },
    "tags": []
   },
   "source": [
    "### Zadanie 3: Generowanie procesów punktowych z wykorzystaniem dedykowanych funkcji (10 pkt)\n",
    "\n",
    "#### a) Przygotowanie funkcji\n",
    "\n",
    "Przygotuj funkcje `homogeneous_poisson_on_polygon()` oraz `clustered_poisson_on_polygon()`, które będzą generować odpowiednio jednorodny proces Poissona oraz sklasteryzowany proces punktowy Poissona (proces Neymana-Scotta) w obrębie dowolnego poligonu.\n",
    "\n",
    "Uwagi do wykonania zadania:\n",
    " - Projektując funkcje skorzystaj z funkcji `geopandas.GeoSeries.sample_points()` oraz `geopandas.GeoSeries.explode()`."
   ]
  },
  {
   "cell_type": "code",
   "execution_count": null,
   "id": "cf7daeab-7a96-4044-af51-cd5d2c33c6ca",
   "metadata": {
    "deletable": false,
    "nbgrader": {
     "cell_type": "code",
     "checksum": "1a8baed74fb23c7257838886359d1645",
     "grade": false,
     "grade_id": "cell-e4b44f2f3cc8497c",
     "locked": false,
     "schema_version": 3,
     "solution": true,
     "task": false
    },
    "tags": []
   },
   "outputs": [],
   "source": [
    "def homogeneous_poisson_on_polygon(intensity, polygon):\n",
    "    \"\"\"\n",
    "    Parameters\n",
    "    -------\n",
    "    intensity: float\n",
    "        Liczba dodatnia określająca intensywność procesu punktowego.\n",
    "    polygon: GeoDataFrame\n",
    "        Pojedynczy wiersz tablicy GeoPandas, zawierający w kolumnie \"geometry\" poligon, na którym mają zostać wygenerowane punkty.\n",
    "\n",
    "    Returns\n",
    "    -------\n",
    "    points: GeoDataFrame\n",
    "        Tablica geopandas zawierająca kolumnę \"geometry\" ze współrzędnymi punktów w odwzorowaniu kartograficznym identycznym jak odwzorowanie zmiennej polygon.\n",
    "    \"\"\"\n",
    "    # YOUR CODE HERE\n",
    "    raise NotImplementedError()\n",
    "    \n",
    "def clustered_poisson_on_polygon(parent_intensity, daughter_intensity, cluster_radius, polygon):\n",
    "    \"\"\"\n",
    "    Parameters\n",
    "    -------\n",
    "    parent_intensity: float\n",
    "        Liczba dodatnia określająca intensywność macierzystego procesu punktowego.\n",
    "    daughter_intensity: int\n",
    "        Liczba dodatnia określająca intensywność potomnego procesu punktowego.\n",
    "    cluster_radius: float\n",
    "        Liczba dodatnia określająca promień generowanych klastrów.\n",
    "    polygon: GeoDataFrame\n",
    "        Pojedynczy wiersz tablicy GeoPandas, zawierający w kolumnie \"geometry\" poligon, na którym mają zostać wygenerowane punkty.\n",
    "  \n",
    "    Returns\n",
    "    -------\n",
    "    points: GeoDataFrame\n",
    "        Tablica geopandas zawierająca kolumnę \"geometry\" ze współrzędnymi punktów w odwzorowaniu kartograficznym identycznym jak odwzorowanie zmiennej polygon.\n",
    "    \"\"\"\n",
    "    # YOUR CODE HERE\n",
    "    raise NotImplementedError()"
   ]
  },
  {
   "cell_type": "code",
   "execution_count": null,
   "id": "993a630c-596f-4e7e-8069-e9094d384fb0",
   "metadata": {
    "deletable": false,
    "editable": false,
    "nbgrader": {
     "cell_type": "code",
     "checksum": "368b86266a2b8cc739232e196f97820a",
     "grade": true,
     "grade_id": "cell-2bad5699792901bc",
     "locked": true,
     "points": 7,
     "schema_version": 3,
     "solution": false,
     "task": false
    },
    "tags": []
   },
   "outputs": [],
   "source": [
    "# Komórka testowa\n",
    "test_points_2 = homogeneous_poisson_on_polygon(7*10**(-9), test_data_1)\n",
    "assert type(test_points_2) == gpd.GeoDataFrame\n",
    "assert list(test_points_2.columns) == [\"geometry\"]\n",
    "assert np.all(test_points_2.within(test_data_1[\"geometry\"][0]))\n",
    "\n",
    "test_points_3 = clustered_poisson_on_polygon(6*10**(-10), 9*10**(-9), 20000, test_data_1)\n",
    "assert type(test_points_3) == gpd.GeoDataFrame\n",
    "assert list(test_points_3.columns) == [\"geometry\"]\n",
    "assert np.all(test_points_3.within(test_data_1[\"geometry\"][0]))"
   ]
  },
  {
   "cell_type": "markdown",
   "id": "481f45eb-8b84-433d-9501-e6f1ee57877c",
   "metadata": {
    "deletable": false,
    "editable": false,
    "nbgrader": {
     "cell_type": "markdown",
     "checksum": "01bbbb3806f2fedfc47a61437f0dc252",
     "grade": false,
     "grade_id": "cell-b92fbdd2851f6a3f",
     "locked": true,
     "schema_version": 3,
     "solution": false,
     "task": false
    },
    "tags": []
   },
   "source": [
    "#### b) Wygenerowanie i wizualizacja danych\n",
    "\n",
    "Wykorzystaj przygotowane funkcje do wygenerowania następujących rozkładów punkotwych:\n",
    "\n",
    "Rozkład 1 - jednorodny proces Poissona:\n",
    " - intensywność procesu: $5 \\cdot 10^{-9} pkt/m^2$ \n",
    " - obszar: Polska\n",
    " \n",
    "Rozkład 2 - sklasteryzowany proces Poissona:\n",
    " - intensywność procesu macierzystego: $0.75 \\cdot 10^{-10} pkt/m^2$ \n",
    " - intensywność procesu: $2.5 \\cdot 10^{-9} pkt/m^2$ \n",
    " - promień klastra: $50 km$\n",
    " - obszar: Polska \n",
    " \n",
    "Rozkład 3 - jednorodny proces Poissona:\n",
    " - intensywność procesu: $6 \\cdot 10^{-9} pkt/m^2$ \n",
    " - obszar: Wielkopolska\n",
    "\n",
    "Przedstaw wygenerowane rozkłady w postaci wykresów punktowego nałożonych na kontury granic kraju (rozkłady 1, 2) lub na kontury granic województw (rozkład 3). Zestaw wyniki na pojedynczej figurze (siatka wykresów 1x3). Ustaw parametry wykresu oraz wizualizowanych obiektów (wielkość figury, kolory, grubość linii, wielkość punktów itp.) tak aby wygenerowana mapa była przejrzysta i czytelna."
   ]
  },
  {
   "cell_type": "code",
   "execution_count": null,
   "id": "717e5979-4778-405b-af3f-469ebc6f977c",
   "metadata": {
    "deletable": false,
    "nbgrader": {
     "cell_type": "code",
     "checksum": "a35c89328daa8b7cc6d4e7e56def68b7",
     "grade": true,
     "grade_id": "cell-0ed94a978d787136",
     "locked": false,
     "points": 3,
     "schema_version": 3,
     "solution": true,
     "task": false
    },
    "tags": []
   },
   "outputs": [],
   "source": [
    "# YOUR CODE HERE\n",
    "raise NotImplementedError()"
   ]
  },
  {
   "cell_type": "markdown",
   "id": "c476ef77-d7a6-4169-a3b5-3cfd7c31d424",
   "metadata": {
    "deletable": false,
    "editable": false,
    "nbgrader": {
     "cell_type": "markdown",
     "checksum": "1cb7f0d742e231961658920972b27ca9",
     "grade": false,
     "grade_id": "cell-6c2c6349e2037fc6",
     "locked": true,
     "schema_version": 3,
     "solution": false,
     "task": false
    },
    "tags": []
   },
   "source": [
    "### Zadanie 4: Badanie intensywności procesów punktowych metodą szacowania lokalnego  (8 pkt)\n",
    "\n",
    "#### a) Przygotowanie funkcji\n",
    "\n",
    "Przygotuj funkcję `point_count_on_subregions()`, która będzie zliczać punkty w obrębie podobszarów oraz funkcję `intensity_on_subregions()`, która będzie obliczać intensywność procesu punktowego w obrębie podobszarów.\n",
    "\n",
    "Uwagi do wykonania zadania:\n",
    "- Projektując funkcje skorzystaj z funkcji `geopandas.GeoSeries.within()` oraz własności `geopandas.GeoSeries.area`.\n",
    "- W części zadania dotyczącej funkcji obliczającej intensywność procesu nie należy dublować kodu napisanego w funkcji zliczającej punkty w obrębie podobszarów, a jedynie wywołać przygotowaną wcześniej funkcję `point_count_on_subregions()`."
   ]
  },
  {
   "cell_type": "code",
   "execution_count": 28,
   "id": "82c49f3c-1c79-4709-9c4e-ee11d6811f3c",
   "metadata": {
    "deletable": false,
    "nbgrader": {
     "cell_type": "code",
     "checksum": "725580d38d6151c8d5ac7d224f3e73d2",
     "grade": false,
     "grade_id": "cell-9e1182bcd41cd01f",
     "locked": false,
     "schema_version": 3,
     "solution": true,
     "task": false
    },
    "tags": []
   },
   "outputs": [],
   "source": [
    "def point_count_on_subregions(points, subregions):\n",
    "    \"\"\"\n",
    "    Parameters\n",
    "    -------\n",
    "    points: GeoDataFrame\n",
    "        Tablica geopandas zawierająca kolumnę \"geometry\" ze współrzędnymi punktów w odwzorowaniu kartograficznym identycznym jak odwzorowanie zmiennej subregions.\n",
    "    subregions: GeoDataFrame\n",
    "        Tablica GeoPandas, zawierająca w kolumnie \"geometry\" poligony w odwzorowaniu kartograficznym identycznym jak odwzorowanie zmiennej points,\n",
    "        na których mają zostać zliczone punkty.\n",
    "    Returns\n",
    "    -------\n",
    "    counts: Series\n",
    "        Seria Pandas zawierająca liczbą punktów przypisanych do każdego z podobszarów.\n",
    "    \"\"\"\n",
    "    indexed_subregions = subregions.set_index(subregions.index)\n",
    "\n",
    "    counts = []\n",
    "\n",
    "    for index, subregion in indexed_subregions.iterrows():\n",
    "        count = sum(points.within(subregion['geometry']))\n",
    "        counts.append(count)\n",
    "\n",
    "    counts = pd.Series(counts, index=indexed_subregions.index, name='point_count')\n",
    "    \n",
    "    return counts\n",
    "\n",
    "def intensity_on_subregions(points, subregions):\n",
    "    \"\"\"\n",
    "    Parameters\n",
    "    -------\n",
    "    points: GeoDataFrame\n",
    "        Tablica geopandas zawierająca kolumnę \"geometry\" ze współrzędnymi punktów w odwzorowaniu kartograficznym identycznym jak odwzorowanie zmiennej subregions.\n",
    "    subregions: GeoDataFrame\n",
    "        Tablica GeoPandas, zawierająca w kolumnie \"geometry\" poligony w odwzorowaniu kartograficznym identycznym jak odwzorowanie zmiennej points,\n",
    "        na których mają zostać wyliczone wartości intensywności procesu.\n",
    "    Returns\n",
    "    -------\n",
    "    counts: Series\n",
    "        Seria Pandas zawierająca intensywność przypisaną do każdego z podobszarów.\n",
    "    \"\"\"\n",
    "    # YOUR CODE HERE\n",
    "    counts = point_count_on_subregions(points, subregions)\n",
    "\n",
    "    intensity = counts / subregions.area\n",
    "\n",
    "    return intensity"
   ]
  },
  {
   "cell_type": "code",
   "execution_count": 29,
   "id": "a4772e12-d3a3-46eb-afd0-7331d2a9c4bf",
   "metadata": {
    "deletable": false,
    "editable": false,
    "nbgrader": {
     "cell_type": "code",
     "checksum": "d338c13c758135374c62dba64f6a06ed",
     "grade": true,
     "grade_id": "cell-191f8efa5b116b45",
     "locked": true,
     "points": 5,
     "schema_version": 3,
     "solution": false,
     "task": false
    },
    "tags": []
   },
   "outputs": [],
   "source": [
    "# Komórka testowa\n",
    "test_intensity = intensity_on_subregions(test_points, test_data_2)\n",
    "assert type(test_intensity) == pd.Series\n",
    "assert np.isclose(test_intensity.min(), 0.0)\n",
    "assert np.isclose(test_intensity.max(), 9.190361956135075e-09)\n",
    "assert np.isclose(test_intensity.mean(), 2.495976569712346e-09)"
   ]
  },
  {
   "cell_type": "markdown",
   "id": "25e0b799-9e30-4a2e-b006-0a2157491bf5",
   "metadata": {
    "deletable": false,
    "editable": false,
    "nbgrader": {
     "cell_type": "markdown",
     "checksum": "47288f4d0f6058372a8079da3d599655",
     "grade": false,
     "grade_id": "cell-df86c9567ba9912a",
     "locked": true,
     "schema_version": 3,
     "solution": false,
     "task": false
    },
    "tags": []
   },
   "source": [
    "#### b) Wygenerowanie i wizualizacja danych\n",
    "\n",
    "Wykorzystaj przygotowane funkcje do zbadania intensywności rozkładów punktów wygenerowanych w poprzednim zadaniu w obrębie całego kraju na obszarze poszczegolnych powiatów.\n",
    "\n",
    "Przedstaw wyniki analizy graficznie w postaci kartogramów z nałożonymi na nie rozkładami punktów. Zestaw wyniki na pojedynczej figurze (siatka wykresów 1x2). Dla wszystkich histogramów ustaw tę samą skalę kolorów z identycznym zakresem wartości ustalonym na podstawie minimalnej i maksymalnej wartości intensywności wyznaczonej dla kompletu analizowanych rozkładów. Ustaw parametry wykresu oraz wizualizowanych obiektów (wielkość figury, kolory, grubość linii, wielkość punktów itp.) tak aby wygenerowana mapa była przejrzysta i czytelna."
   ]
  },
  {
   "cell_type": "code",
   "execution_count": null,
   "id": "f2fad7f2-cf1c-46ea-a894-cd655dacb33e",
   "metadata": {
    "deletable": false,
    "nbgrader": {
     "cell_type": "code",
     "checksum": "b9fa30748c7bba854f6b8f6bbe23b095",
     "grade": true,
     "grade_id": "cell-13b058f90f158e9a",
     "locked": false,
     "points": 3,
     "schema_version": 3,
     "solution": true,
     "task": false
    },
    "tags": []
   },
   "outputs": [],
   "source": [
    "# YOUR CODE HERE\n",
    "raise NotImplementedError()"
   ]
  }
 ],
 "metadata": {
  "kernelspec": {
   "display_name": "Python 3 (ipykernel)",
   "language": "python",
   "name": "python3"
  },
  "language_info": {
   "codemirror_mode": {
    "name": "ipython",
    "version": 3
   },
   "file_extension": ".py",
   "mimetype": "text/x-python",
   "name": "python",
   "nbconvert_exporter": "python",
   "pygments_lexer": "ipython3",
   "version": "3.11.5"
  }
 },
 "nbformat": 4,
 "nbformat_minor": 5
}
