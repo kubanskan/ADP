{
 "cells": [
  {
   "cell_type": "markdown",
   "id": "8b548d91",
   "metadata": {
    "deletable": false,
    "editable": false,
    "nbgrader": {
     "cell_type": "markdown",
     "checksum": "4bc4ef312ccdd965a2df57a87c78b2a4",
     "grade": false,
     "grade_id": "cell-fcd2666579131b77",
     "locked": true,
     "schema_version": 3,
     "solution": false,
     "task": false
    },
    "tags": []
   },
   "source": [
    "# Analiza danych przestrzennych - ćwiczenia laboratoryjne 2023/2024\n",
    "\n",
    "Ten notatnik zalicza się do grupy zestawów zadań, na podstawie których odbywa się zaliczenie ćwiczeń i podlega zwrotowi do oceny w ustalonym na zajęciach terminie.\n",
    "\n",
    "Uwagi i wytyczne ogólne dotyczące uzupełniania i oceny notatnika:\n",
    "- Podczas wykonywania zadań należy korzystać wyłącznie z pakietów zaimportowanych na początku notatnika oraz z pakietów wchodzących w skład standardowej biblioteki Pythona, które można zaimportować samodzielnie we wskazanej komórce notatnika.\n",
    "- Swoje rozwiązania należy wprowadzać wyłącznie w miejce następujących fragmentów kodu:<br/> `# YOUR CODE HERE`<br/> `raise NotImplementedError()`<br/> \n",
    "a odpowiedzi tekstowe w komórkach oznaczonych hasłem:<br/> \n",
    "`YOUR ANSWER HERE`<br/> \n",
    "Nie należy w żaden sposób modyfikować pozostałych fragmentów kodu oraz innych elementów notatnika, w szczególności dodawać lub usuwać komórek oraz zmieniać nazwy pliku.\n",
    "- Jeżeli zestaw zadań wymaga skorzystania z fragmentów kodu opracowanego w ramach wcześniejszych zestawów zadań należy je umieścić we wskazanej komórce notatnika.\n",
    "- Otrzymywane wyniki i odpowiedzi mają być rezultatem wykonania napisanego kodu, odpowiedzi uzupełniane manualnie nie podlegają ocenie.\n",
    "- Zawarte w notatniku automatyczne testy mają charakter poglądowy. Dotyczą one wybranych aspektów zadań i mają na celu wyłapać podstawowe błędy. Przejście przez kod wszystkich testów nie oznacza, że zadanie jest wykonane w całości poprawnie i zostanie ocenione na maksymalną liczbę punktów.\n",
    "- Zadania należy wykonać w taki sposób, aby podczas wykonywania kodu nie zostały wyświetlone żadne ostrzeżenia.\n",
    "- Zadania, które powodują wyświetlenie komunikatu o błędzie przerywającym wykonywanie kodu nie podlegają ocenie.\n",
    "\n",
    "Uwagi i wytyczne ogólne dotyczące wizualizacji wyników:\n",
    "- Wszystkie wykresy powinny być wykonane w jednolitym, przejrzystym i czytelnym stylu, posiadać odpowiednio dobrane proporcje i zakresy wartości osi.\n",
    "- Figury powinny mieć ustawione białe tło, tak, aby niezależnie od ustawień notatnika wszystkie elementy wykresów były dobrze widoczne (domyślnie tło jest przeźroczyste co może powodować problemy w notatnikach z ustawionym ciemnym tłem). Rozmiar poziomy figur nie powinien przekraczać 20 cali.\n",
    "- Wykresy oraz ich osie powinny mieć nadane tytuły. Jeżeli w obrębie figury znajduje się więcej niż jeden wykres to figura również powinna mieć nadany tytuł.\n",
    "- Zakresy osi wykresów przedstawiających rozkłady punktów w przestrzeni powinny być docięte do granic obszaru, na którym został wygenerowany proces punktowy.\n",
    "- Proporcje osi wykresów przedstawiających rozkłady punktów w przestrzeni powinny być dobrane tak, aby wykresy odzwierciedlały rzeczywisty rozkład punktów w przestrzeni. Nie należy osiągać tego efektu manipulując rozmiarem całej figury.\n",
    "\n",
    "Przed odesłaniem zestawu zadań do oceny proszę uzupełnić komórkę z danymi autorów rozwiązania (nazwa zespołu oraz imiona, nazwiska i numery indeksów członków zespołu) oraz upewnić się, że notatnik działa zgodnie z oczekiwaniami. W tym celu należy skorzystać z opcji **Restart Kernel and Run All Cells...** dostępnej na górnej belce notatnika pod symbolem $\\blacktriangleright\\blacktriangleright$."
   ]
  },
  {
   "cell_type": "raw",
   "id": "07d47512",
   "metadata": {},
   "source": [
    "Nazwa zespołu: IAD22\n",
    "Członkowie: Natalia Kubańska 411933, Nadia Napruszewska 411381, Kamila Żur 409777"
   ]
  },
  {
   "cell_type": "markdown",
   "id": "86339aac",
   "metadata": {
    "deletable": false,
    "editable": false,
    "nbgrader": {
     "cell_type": "markdown",
     "checksum": "eddc8826810e4a6f7bf68319da334bd9",
     "grade": false,
     "grade_id": "cell-109006d425e5cf83",
     "locked": true,
     "schema_version": 3,
     "solution": false,
     "task": false
    },
    "tags": []
   },
   "source": [
    "---"
   ]
  },
  {
   "cell_type": "markdown",
   "id": "28276681-0950-4312-92cb-792a97f88e2b",
   "metadata": {
    "deletable": false,
    "editable": false,
    "nbgrader": {
     "cell_type": "markdown",
     "checksum": "ecc0c5f5dd57add592643dda2b79b3bf",
     "grade": false,
     "grade_id": "cell-1f33a09e5146ecbe",
     "locked": true,
     "schema_version": 3,
     "solution": false,
     "task": false
    },
    "tags": []
   },
   "source": [
    "## Zestaw zadań 4: Badanie relacji między punktami (część 1)"
   ]
  },
  {
   "cell_type": "code",
   "execution_count": null,
   "id": "560aae70-e3b4-4a1a-961f-54eebe9922ec",
   "metadata": {
    "deletable": false,
    "editable": false,
    "nbgrader": {
     "cell_type": "code",
     "checksum": "31642740d59cb98672cfd1ca55108013",
     "grade": false,
     "grade_id": "cell-ecd0d56207650fc3",
     "locked": true,
     "schema_version": 3,
     "solution": false,
     "task": false
    },
    "tags": []
   },
   "outputs": [],
   "source": [
    "import numpy as np\n",
    "import pandas as pd\n",
    "import scipy as sp\n",
    "import matplotlib as mpl\n",
    "import matplotlib.pyplot as plt\n",
    "import seaborn as sns"
   ]
  },
  {
   "cell_type": "code",
   "execution_count": null,
   "id": "85336381-f0de-4bb0-bbd0-d0849707ed38",
   "metadata": {
    "tags": []
   },
   "outputs": [],
   "source": [
    "# Miejsce do importu pakietów wchodzących w skład standardowej biblioteki Pythona oraz ustawienie opcji wykorzystywanych pakietów"
   ]
  },
  {
   "cell_type": "code",
   "execution_count": null,
   "id": "7ece9eb9-c0d1-479e-bbc2-eddadcef70b5",
   "metadata": {
    "deletable": false,
    "nbgrader": {
     "cell_type": "code",
     "checksum": "55a8e0074e4a79d274a617feada89d70",
     "grade": false,
     "grade_id": "cell-885489b562915779",
     "locked": false,
     "schema_version": 3,
     "solution": true,
     "task": false
    },
    "tags": []
   },
   "outputs": [],
   "source": [
    "# Miejsce do wklejenie funkcji ze wcześniejszych zestawów zadań\n",
    "# YOUR CODE HERE\n",
    "def point_count_on_subregions(points, bins, x_lim, y_lim):\n",
    "    H, xedges, yedges = np.histogram2d( points[\"X\"], points[\"Y\"], range = [ x_lim, y_lim ], bins = bins )\n",
    "    \n",
    "    return [ H.T, xedges, yedges ]"
   ]
  },
  {
   "cell_type": "markdown",
   "id": "f4cd1f64-87d1-4158-acc2-bc3c5929a5bb",
   "metadata": {
    "deletable": false,
    "editable": false,
    "nbgrader": {
     "cell_type": "markdown",
     "checksum": "b83e5a54faaaf4d9c63c60da4925dadd",
     "grade": false,
     "grade_id": "cell-f2afbf273f0dc494",
     "locked": true,
     "schema_version": 3,
     "solution": false,
     "task": false
    },
    "tags": []
   },
   "source": [
    "### Wczytanie danych\n",
    "Załączone do notatniki pliki zawierają następujące procesy punktowe:\n",
    " - `points_HP` - jednorodny rozkład Poissona,\n",
    " - `points_R` - rozkład regularny z komponentem losowym,\n",
    " - `points_M` - rozkład Materna,\n",
    "\n",
    "wygenerowane dla zakresu współrzędnych X $[10, 20]$ i Y $[-20, -10]$.\n",
    "\n",
    "W celu wczytania danych do notatnika umieść wszystkie pliki w tym samym folderze, w którym znajduje się notatnik."
   ]
  },
  {
   "cell_type": "code",
   "execution_count": null,
   "id": "5bdc9df9-80a1-45fe-a3e0-bcc9a3268595",
   "metadata": {
    "deletable": false,
    "editable": false,
    "nbgrader": {
     "cell_type": "code",
     "checksum": "e115689b86694e4732ecab38279cece1",
     "grade": false,
     "grade_id": "cell-ade1720260927626",
     "locked": true,
     "schema_version": 3,
     "solution": false,
     "task": false
    },
    "tags": []
   },
   "outputs": [],
   "source": [
    "points_HP = pd.read_pickle('points_HP.pkl')\n",
    "points_R = pd.read_pickle('points_R.pkl')\n",
    "points_M = pd.read_pickle('points_M.pkl')"
   ]
  },
  {
   "cell_type": "markdown",
   "id": "e8a75976-cb9d-4da6-b501-73a9f60bfb6a",
   "metadata": {
    "deletable": false,
    "editable": false,
    "nbgrader": {
     "cell_type": "markdown",
     "checksum": "a25579c09ba5966d63968f458f093d48",
     "grade": false,
     "grade_id": "cell-cf8e2b1190d2c9a6",
     "locked": true,
     "schema_version": 3,
     "solution": false,
     "task": false
    },
    "tags": []
   },
   "source": [
    "### Zadanie 1: Wykres Morishity (12 pkt)\n",
    "\n",
    "#### a) Przygotowanie funkcji\n",
    "\n",
    "Przygotuj funkcję `morishita_plot_data()`, która będzie generować dane niezbędne do wykonania wykresu Morishity. \n",
    "\n",
    "Algorytm postępowania:\n",
    "- Kolejno dzielimy obszar na rosnącą liczbę kwadratowych podobszarów.\n",
    "- Dla każdego z podziałów obliczamy wartość indeksu: <br/>\n",
    "$MI = L \\sum_{i=1}^L \\frac{n_i (n_i-1)}{N(N-1)}$ <br/>\n",
    "gdzie: $L$ - liczba podobszarów, $N$ - liczba punktów, $n_i$ - liczba punktów w obrębie i-tego podobszaru.\n",
    "- Zestawiamy w tabeli długości boków podobszarów w poszczególnych podziałach z obliczonymi dla nich wartościami indeksu $MI$.\n",
    "\n",
    "Uwagi do wykonania zadania:\n",
    "- W części zadania dotyczącej podziału obszaru analizy na podobszary i zliczenia znajdujących się w nich punktów nie należy pisać kodu od podstaw, a jedynie skorzystać z przygotowanej wcześniej funkcji `point_count_on_subregions()`, którą można wkleić we wskazanej komórce na początku notatnika."
   ]
  },
  {
   "cell_type": "code",
   "execution_count": null,
   "id": "cf751bf0-f36a-4377-b6cc-a259336a5b4a",
   "metadata": {
    "deletable": false,
    "nbgrader": {
     "cell_type": "code",
     "checksum": "73a492c6d09cb852008ef4b9af09fe17",
     "grade": false,
     "grade_id": "cell-357a2ee8390da86b",
     "locked": false,
     "schema_version": 3,
     "solution": true,
     "task": false
    },
    "tags": []
   },
   "outputs": [],
   "source": [
    "def morishita_plot_data(points, bins_list, x_lim, y_lim):\n",
    "    \"\"\"\n",
    "    Parameters\n",
    "    -------\n",
    "    points: DataFrame\n",
    "        Tablica zawierająca dwie kolumny ze współrzędnymi punktów opisane jako \"X\" i \"Y\".\n",
    "    bins_list: list\n",
    "        Lista zawierająca wszystkie zestawy parametrów określających liczbę podobszarów w poziomie i pionie, dla których mają zostać przeprowadzone obliczenia.\n",
    "        Przykład: [[2, 2], [4, 4], [8, 8], [16, 16]]\n",
    "    x_lim: list\n",
    "        Lista określająca zakres wartości współrzędnej X.\n",
    "        Przykład: [0, 10]\n",
    "    y_lim: list\n",
    "        Lista określająca zakres wartości współrzędnej Y.\n",
    "        Przykład: [0, 10] \n",
    "    \n",
    "    Returns\n",
    "    -------\n",
    "    morishita_index: DataFrame\n",
    "        Tablica zawierająca dwie kolumny:\n",
    "        - \"BD\" - długości boków podobszarów uszeregowane od największej do najmniejszej wartości,\n",
    "        - \"MI\" - wartości indeksów MI wyliczone dla poszczególnych podziałów.\n",
    "    \"\"\"\n",
    "    # YOUR CODE HERE\n",
    "    # create empty list to store length of subregions and MI index values\n",
    "    BD = []\n",
    "    MI = []\n",
    "\n",
    "    # calculate original length\n",
    "    length = x_lim[1] - x_lim[0]\n",
    "    \n",
    "    # iterate through counts of subregions\n",
    "    for i in range(len(bins_list)):\n",
    "        # count how many points in each subregion\n",
    "        count =  point_count_on_subregions(points, bins_list[i], x_lim, y_lim)[0] \n",
    "        # calculate total number of points\n",
    "        N = np.sum(count)\n",
    "        \n",
    "        # append length of subregion\n",
    "        BD.append(length / bins_list[i][0])\n",
    "        # calculate number of subregions\n",
    "        L = bins_list[i][0]**2\n",
    "        # calculate and append MI value\n",
    "        MI.append( L * np.sum ( ( count * (count - 1 ) ) / ( N *( N - 1 ) ) ) )\n",
    "        \n",
    "    return pd.DataFrame({\"BD\": BD, \"MI\": MI}).sort_values(by=\"BD\", ascending=False)"
   ]
  },
  {
   "cell_type": "code",
   "execution_count": null,
   "id": "8149cacf-3a6e-4c78-bc1b-f03a8915e588",
   "metadata": {
    "deletable": false,
    "editable": false,
    "nbgrader": {
     "cell_type": "code",
     "checksum": "1d06f431f45578434f35c0523cafb3f8",
     "grade": true,
     "grade_id": "cell-64f625746480e1dc",
     "locked": true,
     "points": 6,
     "schema_version": 3,
     "solution": false,
     "task": false
    },
    "tags": []
   },
   "outputs": [],
   "source": [
    "# Komórka testowa\n",
    "test_results_1 = morishita_plot_data(points_HP, bins_list=[[2, 2], [5, 5], [13, 13], [20, 20]], x_lim=[10, 15], y_lim=[-20, -15])\n",
    "assert type(test_results_1) == pd.DataFrame\n",
    "assert test_results_1.shape == (4, 2)\n",
    "assert list(test_results_1.columns) == [\"BD\", \"MI\"]\n",
    "assert np.all(np.isclose(test_results_1[\"BD\"].values, np.array([2.5       , 1.        , 0.38461538, 0.25      ])))\n",
    "assert np.all(np.isclose(test_results_1[\"MI\"].values, np.array([0.98189135, 0.86519115, 0.68008048, 1.44869215])))"
   ]
  },
  {
   "cell_type": "markdown",
   "id": "a4717de4-5c60-4edd-88a9-6c1a296da5e8",
   "metadata": {
    "deletable": false,
    "editable": false,
    "nbgrader": {
     "cell_type": "markdown",
     "checksum": "cb9e16a3ff2ffca09f20e54786e3ac64",
     "grade": false,
     "grade_id": "cell-8faafe8175d68f1e",
     "locked": true,
     "schema_version": 3,
     "solution": false,
     "task": false
    },
    "tags": []
   },
   "source": [
    "#### b) Wygenerowanie danych i wizualizacja\n",
    "\n",
    "Wykorzystaj przygotowaną funkcję do wygnenerowania danych dla wszystkich wczytanych do notatnika rozkładów punktowych. Wykonaj obliczenia dla całego obszaru, na którym zostały wygenerowane punkty podzielonego na 2x2, 3x3, ..., 40x40 podobszarów w poziomie i w pionie.\n",
    "\n",
    "Przedstaw wyniki analizy graficznie w postaci wykresów punktowych zestawionych z rozkładami punktów na podstawie których zostały wykonane. Zestaw wyniki na pojedynczej figurze (siatka wykresów 2x3). Umieść analizowane rozkłady punktów w górnym, a wykresy Morishity w dolnym wierszu figury. Ustaw identyczne zakresy osi wszystkich trzech wykresów Morishity."
   ]
  },
  {
   "cell_type": "code",
   "execution_count": null,
   "id": "40328148-42ac-443f-a33e-acf562aa69f9",
   "metadata": {
    "deletable": false,
    "nbgrader": {
     "cell_type": "code",
     "checksum": "58e161537fe5c50cc98bb5465b3c2282",
     "grade": true,
     "grade_id": "cell-6c54b48d31e662da",
     "locked": false,
     "points": 6,
     "schema_version": 3,
     "solution": true,
     "task": false
    },
    "tags": []
   },
   "outputs": [],
   "source": [
    "# YOUR CODE HERE\n",
    "inputs = [points_HP, points_R, points_M]\n",
    "inputs_title = [\"points_HP\", \"points_R\", \"points_M\"]\n",
    "subregions = [[x, x] for x in range(2, 41)]\n",
    "morishita_points = [morishita_plot_data(input, subregions, [10, 20], [-20, -10]) for input in inputs]\n",
    "\n",
    "fig, axes = plt.subplots(2, 3, figsize=(14, 10), facecolor='white')  # Set a white background\n",
    "\n",
    "# Plot original points\n",
    "for i, (input_data, ax) in enumerate(zip(inputs, axes[0])):\n",
    "    ax.scatter(input_data['X'], input_data['Y'], label=f'Points {i+1}')\n",
    "    ax.set_title(inputs_title[i])\n",
    "    ax.set_xlabel('X')\n",
    "    ax.set_ylabel('Y')\n",
    "    ax.set_xlim(10, 20)\n",
    "    ax.set_ylim(-20, -10)\n",
    "    ax.legend(loc='upper right')\n",
    "    ax.set_aspect('equal')\n",
    "\n",
    "# Plot Morishita points\n",
    "for i, (morishita_data, ax) in enumerate(zip(morishita_points, axes[1])):\n",
    "    ax.scatter(morishita_data['BD'], morishita_data['MI'], label=f'Morishita Points {i+1}', color=\"orange\")\n",
    "    ax.set_title(f'Morishita Plot for {inputs_title[i]}')\n",
    "    ax.set_xlabel('X')\n",
    "    ax.set_ylabel('Y')\n",
    "    ax.legend(loc='upper right')\n",
    "\n",
    "# Set common axis limits for Morishita points plots\n",
    "for ax in axes[1]:\n",
    "    ax.set_xlim(0, 6)\n",
    "    ax.set_ylim(-0.5, 3.5)\n",
    "    ax.set_aspect('equal')  # Maintain equal aspect ratio based on data limits\n",
    "\n",
    "# Set a title for the entire figure\n",
    "fig.suptitle('Comparison of Original Points and Morishita Plots', fontsize=16)\n",
    "\n",
    "plt.tight_layout(rect=[0, 0, 1, 0.97])  # Adjust layout to accommodate the suptitle\n",
    "plt.show()"
   ]
  },
  {
   "cell_type": "markdown",
   "id": "8eb8c0a3-36c4-4eee-a0a3-82f5f93008c5",
   "metadata": {
    "deletable": false,
    "editable": false,
    "nbgrader": {
     "cell_type": "markdown",
     "checksum": "e9a247b4acc876ec3029020221cb40ca",
     "grade": false,
     "grade_id": "cell-46f87024c5253ba3",
     "locked": true,
     "schema_version": 3,
     "solution": false,
     "task": false
    },
    "tags": []
   },
   "source": [
    "### Zadanie 2: Wykres Fry (12 pkt)\n",
    "\n",
    "#### a) Przygotowanie funkcji\n",
    "Przygotuj funkcję `fry_plot_data()`, która będzie generować dane niezbędne do wykonania wykresu Fry.\n",
    "\n",
    "Algorytm postępowania: <br/>\n",
    "- Traktując kolejno każdy punkt analizowanego rozkładu jako początek układu współrzędnych zapisujemy współrzędne pozostałych punktów względem niego.\n",
    "Rezultatem jest zbiór współrzędnych $n(n-1)$ punktów, gdzie $n$ to liczba punktów w analizowanym rozkładzie."
   ]
  },
  {
   "cell_type": "code",
   "execution_count": null,
   "id": "13e653bc-c56b-42d8-95a5-3d5ac5b8eeff",
   "metadata": {
    "deletable": false,
    "nbgrader": {
     "cell_type": "code",
     "checksum": "2513770fc9abb3415915595ba62b4156",
     "grade": false,
     "grade_id": "cell-2f066333ab586e29",
     "locked": false,
     "schema_version": 3,
     "solution": true,
     "task": false
    },
    "tags": []
   },
   "outputs": [],
   "source": [
    "def fry_plot_data(points):\n",
    "    \"\"\"\n",
    "    Parameters\n",
    "    -------\n",
    "    points: DataFrame\n",
    "        Tablica zawierająca dwie kolumny ze współrzędnymi punktów opisane jako \"X\" i \"Y\".\n",
    "    \n",
    "    Returns\n",
    "    -------\n",
    "    fry_points: DataFrame\n",
    "        Tablica zawierająca dwie kolumny ze współrzędnymi punktów opisane jako \"X\" i \"Y\".\n",
    "    \"\"\"    \n",
    "    # YOUR CODE HERE\n",
    "    # create empty dataframe to store results\n",
    "    fry_points = pd.DataFrame()\n",
    "\n",
    "    # iterate through each row of input file\n",
    "    for index, row in points.iterrows():\n",
    "        # modify coordinates of whole df\n",
    "        new_points = points - row\n",
    "        # concat points with new coordinates to result dataframe except for (0, 0) point\n",
    "        fry_points = pd.concat([fry_points, new_points.drop(index=index)])\n",
    "\n",
    "    fry_points = fry_points.reset_index(drop=True)\n",
    "\n",
    "    return fry_points\n"
   ]
  },
  {
   "cell_type": "code",
   "execution_count": null,
   "id": "4617d8e0-3e31-4fa8-9df6-4ddcbaadc61b",
   "metadata": {
    "deletable": false,
    "editable": false,
    "nbgrader": {
     "cell_type": "code",
     "checksum": "e285e6a59c380d9ffecf8fc2cae954df",
     "grade": true,
     "grade_id": "cell-20ddad4cc65d8b75",
     "locked": true,
     "points": 6,
     "schema_version": 3,
     "solution": false,
     "task": false
    },
    "scrolled": true,
    "tags": []
   },
   "outputs": [],
   "source": [
    "# Komórka testowa\n",
    "test_results_2 = fry_plot_data(points_R)\n",
    "assert type(test_results_2) == pd.DataFrame\n",
    "assert test_results_2.shape == (50400, 2)\n",
    "assert list(test_results_2.columns) == [\"X\", \"Y\"]\n",
    "assert np.isclose(test_results_2[\"X\"].min(), -9.780351083790674)\n",
    "assert np.isclose(test_results_2[\"X\"].max(), 9.780351083790674)\n",
    "assert np.isclose(test_results_2[\"Y\"].min(), -9.820917153357763)\n",
    "assert np.isclose(test_results_2[\"Y\"].max(), 9.820917153357763)\n",
    "assert np.isclose(np.min(np.sqrt(test_results_2[\"X\"]**2 + test_results_2[\"Y\"]**2)), 0.2422502497911993)\n",
    "assert np.isclose(np.max(np.sqrt(test_results_2[\"X\"]**2 + test_results_2[\"Y\"]**2)), 13.427014041427164)\n",
    "assert np.isclose(np.mean(np.sqrt(test_results_2[\"X\"]**2 + test_results_2[\"Y\"]**2)), 5.2279202259517525)"
   ]
  },
  {
   "cell_type": "markdown",
   "id": "f853e0f4-8b60-4773-956e-ba988fc22cb1",
   "metadata": {
    "deletable": false,
    "editable": false,
    "nbgrader": {
     "cell_type": "markdown",
     "checksum": "10b986a591a7bde264bd40553e9c5bb8",
     "grade": false,
     "grade_id": "cell-3912a59c00ac417b",
     "locked": true,
     "schema_version": 3,
     "solution": false,
     "task": false
    },
    "tags": []
   },
   "source": [
    "#### b) Wygenerowanie danych i wizualizacja\n",
    "\n",
    "Wykorzystaj przygotowaną funkcję do wygnenerowania danych dla wszystkich wczytanych do notatnika rozkładów punktowych.\n",
    "\n",
    "Przedstaw wyniki analizy graficznie w postaci wykresów punktowych zestawionych z rozkładami punktów na podstawie których zostały wykonane. Zestaw wyniki na pojedynczej figurze (siatka wykresów 2x3). Umieść analizowane rozkłady punktów w górnym, a wykresy Fry w dolnym wierszu figury. Ustaw identyczne zakresy osi wszystkich trzech wykresów Fry oraz dobierz rozmiar i przeźroczystość punktów tak, aby wykresy dobrze oddawały charakter rozkładu, którego dotyczą."
   ]
  },
  {
   "cell_type": "code",
   "execution_count": null,
   "id": "1c16ffc6-400a-4fd3-806d-d38ebf8eca38",
   "metadata": {
    "deletable": false,
    "nbgrader": {
     "cell_type": "code",
     "checksum": "c17bd455dd67bdf419610661243f88f4",
     "grade": true,
     "grade_id": "cell-e0d3fadfd4e76d87",
     "locked": false,
     "points": 6,
     "schema_version": 3,
     "solution": true,
     "task": false
    },
    "tags": []
   },
   "outputs": [],
   "source": [
    "# YOUR CODE HERE\n",
    "inputs = [points_HP, points_R, points_M]\n",
    "inputs_title = [\"points_HP\", \"points_R\", \"points_M\"]\n",
    "fry_points = [fry_plot_data(input) for input in inputs]\n",
    "\n",
    "fig, axes = plt.subplots(2, 3, figsize=(14, 10), facecolor='white')  # Set a white background\n",
    "\n",
    "# Plot original points\n",
    "for i, (input_data, ax) in enumerate(zip(inputs, axes[0])):\n",
    "    ax.scatter(input_data['X'], input_data['Y'], label=f'Points {i+1}')\n",
    "    ax.set_title(inputs_title[i])\n",
    "    ax.set_xlabel('X')\n",
    "    ax.set_ylabel('Y')\n",
    "    ax.set_xlim(10, 20)\n",
    "    ax.set_ylim(-20, -10)\n",
    "    ax.legend(loc='upper right')\n",
    "    ax.set_aspect('equal')\n",
    "\n",
    "# Plot Fry points\n",
    "for i, (fry_data, ax) in enumerate(zip(fry_points, axes[1])):\n",
    "    ax.scatter(fry_data['X'], fry_data['Y'], label=f'Fry Points {i+1}', s=0.8, alpha=0.4, color=\"orange\")\n",
    "    ax.set_title(f'Fry Plot for {inputs_title[i]}')\n",
    "    ax.set_xlabel('X')\n",
    "    ax.set_ylabel('Y')\n",
    "    ax.legend(loc='upper right')\n",
    "\n",
    "# Set common axis limits for Fry points plots\n",
    "for ax in axes[1]:\n",
    "    ax.set_xlim(-5, 5)\n",
    "    ax.set_ylim(-5, 5)\n",
    "    ax.set_aspect('equal')  # Maintain equal aspect ratio based on data limits\n",
    "\n",
    "# Set a title for the entire figure\n",
    "fig.suptitle('Comparison of Original Points and Fry Plots', fontsize=16)\n",
    "\n",
    "plt.tight_layout(rect=[0, 0, 1, 0.97])  # Adjust layout to accommodate the suptitle\n",
    "plt.show()"
   ]
  }
 ],
 "metadata": {
  "kernelspec": {
   "display_name": "Python 3 (ipykernel)",
   "language": "python",
   "name": "python3"
  },
  "language_info": {
   "codemirror_mode": {
    "name": "ipython",
    "version": 3
   },
   "file_extension": ".py",
   "mimetype": "text/x-python",
   "name": "python",
   "nbconvert_exporter": "python",
   "pygments_lexer": "ipython3",
   "version": "3.11.5"
  }
 },
 "nbformat": 4,
 "nbformat_minor": 5
}
