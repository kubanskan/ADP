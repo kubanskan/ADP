{
 "cells": [
  {
   "cell_type": "markdown",
   "id": "d3e99ba2",
   "metadata": {
    "deletable": false,
    "editable": false,
    "nbgrader": {
     "cell_type": "markdown",
     "checksum": "4bc4ef312ccdd965a2df57a87c78b2a4",
     "grade": false,
     "grade_id": "cell-fcd2666579131b77",
     "locked": true,
     "schema_version": 3,
     "solution": false,
     "task": false
    },
    "tags": []
   },
   "source": [
    "# Analiza danych przestrzennych - ćwiczenia laboratoryjne 2023/2024\n",
    "\n",
    "Ten notatnik zalicza się do grupy zestawów zadań, na podstawie których odbywa się zaliczenie ćwiczeń i podlega zwrotowi do oceny w ustalonym na zajęciach terminie.\n",
    "\n",
    "Uwagi i wytyczne ogólne dotyczące uzupełniania i oceny notatnika:\n",
    "- Podczas wykonywania zadań należy korzystać wyłącznie z pakietów zaimportowanych na początku notatnika oraz z pakietów wchodzących w skład standardowej biblioteki Pythona, które można zaimportować samodzielnie we wskazanej komórce notatnika.\n",
    "- Swoje rozwiązania należy wprowadzać wyłącznie w miejce następujących fragmentów kodu:<br/> `# YOUR CODE HERE`<br/> `raise NotImplementedError()`<br/> \n",
    "a odpowiedzi tekstowe w komórkach oznaczonych hasłem:<br/> \n",
    "`YOUR ANSWER HERE`<br/> \n",
    "Nie należy w żaden sposób modyfikować pozostałych fragmentów kodu oraz innych elementów notatnika, w szczególności dodawać lub usuwać komórek oraz zmieniać nazwy pliku.\n",
    "- Jeżeli zestaw zadań wymaga skorzystania z fragmentów kodu opracowanego w ramach wcześniejszych zestawów zadań należy je umieścić we wskazanej komórce notatnika.\n",
    "- Otrzymywane wyniki i odpowiedzi mają być rezultatem wykonania napisanego kodu, odpowiedzi uzupełniane manualnie nie podlegają ocenie.\n",
    "- Zawarte w notatniku automatyczne testy mają charakter poglądowy. Dotyczą one wybranych aspektów zadań i mają na celu wyłapać podstawowe błędy. Przejście przez kod wszystkich testów nie oznacza, że zadanie jest wykonane w całości poprawnie i zostanie ocenione na maksymalną liczbę punktów.\n",
    "- Zadania należy wykonać w taki sposób, aby podczas wykonywania kodu nie zostały wyświetlone żadne ostrzeżenia.\n",
    "- Zadania, które powodują wyświetlenie komunikatu o błędzie przerywającym wykonywanie kodu nie podlegają ocenie.\n",
    "\n",
    "Uwagi i wytyczne ogólne dotyczące wizualizacji wyników:\n",
    "- Wszystkie wykresy powinny być wykonane w jednolitym, przejrzystym i czytelnym stylu, posiadać odpowiednio dobrane proporcje i zakresy wartości osi.\n",
    "- Figury powinny mieć ustawione białe tło, tak, aby niezależnie od ustawień notatnika wszystkie elementy wykresów były dobrze widoczne (domyślnie tło jest przeźroczyste co może powodować problemy w notatnikach z ustawionym ciemnym tłem). Rozmiar poziomy figur nie powinien przekraczać 20 cali.\n",
    "- Wykresy oraz ich osie powinny mieć nadane tytuły. Jeżeli w obrębie figury znajduje się więcej niż jeden wykres to figura również powinna mieć nadany tytuł.\n",
    "- Zakresy osi wykresów przedstawiających rozkłady punktów w przestrzeni powinny być docięte do granic obszaru, na którym został wygenerowany proces punktowy.\n",
    "- Proporcje osi wykresów przedstawiających rozkłady punktów w przestrzeni powinny być dobrane tak, aby wykresy odzwierciedlały rzeczywisty rozkład punktów w przestrzeni. Nie należy osiągać tego efektu manipulując rozmiarem całej figury.\n",
    "\n",
    "Przed odesłaniem zestawu zadań do oceny proszę uzupełnić komórkę z danymi autorów rozwiązania (nazwa zespołu oraz imiona, nazwiska i numery indeksów członków zespołu) oraz upewnić się, że notatnik działa zgodnie z oczekiwaniami. W tym celu należy skorzystać z opcji **Restart Kernel and Run All Cells...** dostępnej na górnej belce notatnika pod symbolem $\\blacktriangleright\\blacktriangleright$."
   ]
  },
  {
   "cell_type": "raw",
   "id": "115625cb",
   "metadata": {},
   "source": [
    "Nazwa zespołu:\n",
    "Członkowie:"
   ]
  },
  {
   "cell_type": "markdown",
   "id": "eedd1fca",
   "metadata": {
    "deletable": false,
    "editable": false,
    "nbgrader": {
     "cell_type": "markdown",
     "checksum": "eddc8826810e4a6f7bf68319da334bd9",
     "grade": false,
     "grade_id": "cell-109006d425e5cf83",
     "locked": true,
     "schema_version": 3,
     "solution": false,
     "task": false
    },
    "tags": []
   },
   "source": [
    "---"
   ]
  },
  {
   "cell_type": "markdown",
   "id": "52e47010",
   "metadata": {
    "deletable": false,
    "editable": false,
    "nbgrader": {
     "cell_type": "markdown",
     "checksum": "59a8239f61429d983493314302c1a0f8",
     "grade": false,
     "grade_id": "cell-1f33a09e5146ecbe",
     "locked": true,
     "schema_version": 3,
     "solution": false,
     "task": false
    },
    "tags": []
   },
   "source": [
    "## Zestaw zadań 1: Generowanie procesów punktowych"
   ]
  },
  {
   "cell_type": "code",
   "execution_count": null,
   "id": "83056f30",
   "metadata": {
    "deletable": false,
    "editable": false,
    "nbgrader": {
     "cell_type": "code",
     "checksum": "31642740d59cb98672cfd1ca55108013",
     "grade": false,
     "grade_id": "cell-ecd0d56207650fc3",
     "locked": true,
     "schema_version": 3,
     "solution": false,
     "task": false
    },
    "tags": []
   },
   "outputs": [],
   "source": [
    "import numpy as np\n",
    "import pandas as pd\n",
    "import scipy as sp\n",
    "import matplotlib as mpl\n",
    "import matplotlib.pyplot as plt\n",
    "import seaborn as sns"
   ]
  },
  {
   "cell_type": "code",
   "execution_count": null,
   "id": "ceda7a9f",
   "metadata": {
    "tags": []
   },
   "outputs": [],
   "source": [
    "# Miejsce do importu pakietów wchodzących w skład standardowej biblioteki Pythona oraz ustawienie opcji wykorzystywanych pakietów"
   ]
  },
  {
   "cell_type": "markdown",
   "id": "78153ac6",
   "metadata": {
    "deletable": false,
    "editable": false,
    "nbgrader": {
     "cell_type": "markdown",
     "checksum": "88a44fcb9e7bf9cb72651069d01831c7",
     "grade": false,
     "grade_id": "cell-5ac08c9c8653766e",
     "locked": true,
     "schema_version": 3,
     "solution": false,
     "task": false
    },
    "tags": []
   },
   "source": [
    "### Zadanie 1: Proces regularny z komponentem losowym w obrębie prostokątnego obszaru [7 pkt]\n",
    "\n",
    "#### a) Przygotowanie funkcji\n",
    "Przygotuj funkcję `regular_on_rectangle()`, która będzie generować proces regularny z komponentem losowym w obrębie prostokątnego obszaru.\n",
    "\n",
    "Algorytm postępowania:\n",
    "1) Generujemy punkty na regularnej siatce tak, że poszczególne punkty są oddalone od siebie o odległość $d_x$ w poziomie i $d_y$ w pionie, a skrajne punkty są oddalone od krawędzi obszaru odpowiednio o $\\frac{1}{2} d_x$ w poziomie i $\\frac{1}{2}d_y$ w pionie.\n",
    "2) Do współrzędnych każdego z punktów dodajemy komponent losowy określony wzorem $r \\cdot rand$ , gdzie $r$ to parametr określający wielkość komponentu losowego, a $rand$ to wartość wylosowana z rozkładu jednostajnego na przedziale $[-\\frac{1}{2} d_x, \\frac{1}{2} d_x]$ w przypadku współrzędnej $x$ i na przedziale $[-\\frac{1}{2} d_y, \\frac{1}{2} d_y]$ w przypadku współrzędnej $y$."
   ]
  },
  {
   "cell_type": "code",
   "execution_count": null,
   "id": "58b4234d",
   "metadata": {
    "deletable": false,
    "nbgrader": {
     "cell_type": "code",
     "checksum": "aa99a09a3948c4e5ae94a460165cd422",
     "grade": false,
     "grade_id": "cell-0b8ca172a3462f06",
     "locked": false,
     "schema_version": 3,
     "solution": true,
     "task": false
    },
    "tags": []
   },
   "outputs": [],
   "source": [
    "def regular_on_rectangle(grid, random_component, x_lim, y_lim):        \n",
    "    \"\"\"\n",
    "    Parameters\n",
    "    -------\n",
    "    grid: list\n",
    "        Lista określająca liczbę punktów w siatce w poziomie i w pionie.\n",
    "        Przykład: [20, 10]\n",
    "    random_component: float\n",
    "        Liczba z przedziału [0, 1] określająca wielkość komponentu losowego.\n",
    "    x_lim: list\n",
    "        Lista określająca zakres wartości współrzędnej X.\n",
    "        Przykład: [0, 10]\n",
    "    y_lim: list\n",
    "        Lista określająca zakres wartości współrzędnej Y.\n",
    "        Przykład: [0, 10]   \n",
    "\n",
    "    Returns\n",
    "    -------\n",
    "    points: DataFrame\n",
    "        Tablica zawierająca dwie kolumny ze współrzędnymi punktów opisane jako \"X\" i \"Y\".\n",
    "    \"\"\"\n",
    "    # calculate distance between points\n",
    "    dx = ( x_lim[1] - x_lim[0] ) / grid[0]\n",
    "    dy = ( y_lim[1] - y_lim[0] ) / grid[1]\n",
    "    \n",
    "    # calculate all values of x and y coordinates\n",
    "    x_coords = np.linspace( x_lim[0] + dx, x_lim[1] - dx, grid[0] )\n",
    "    y_coords = np.linspace( y_lim[0] + dy, y_lim[1] - dy, grid[1] )\n",
    "\n",
    "    # calculate random component for each point's x and y value\n",
    "    x_matrix, y_matrix = np.meshgrid( x_coords, y_coords )\n",
    "    x_noise = random_component * np.random.uniform( -1/2*dx, 1/2*dx, grid[0] * grid[1] ) \n",
    "    y_noise = random_component * np.random.uniform( -1/2*dy, 1/2*dy, grid[0] * grid[1] )\n",
    "\n",
    "    # add noise (random component) to x and y coordinates\n",
    "    x_list = x_matrix.flatten()\n",
    "    y_list = y_matrix.flatten()\n",
    "    x_list += x_noise\n",
    "    y_list += y_noise\n",
    "    \n",
    "    # create dataframe out of coordinates\n",
    "    points = pd.DataFrame( { \"X\" : x_list, \"Y\" : y_list } )\n",
    "\n",
    "    return points"
   ]
  },
  {
   "cell_type": "code",
   "execution_count": null,
   "id": "fde4d1ef",
   "metadata": {
    "deletable": false,
    "editable": false,
    "nbgrader": {
     "cell_type": "code",
     "checksum": "344fe2722bf3ce9934059ba05f4feb7e",
     "grade": true,
     "grade_id": "cell-39c0feb5c4d29909",
     "locked": true,
     "points": 5,
     "schema_version": 3,
     "solution": false,
     "task": false
    },
    "tags": []
   },
   "outputs": [],
   "source": [
    "# Komórka testowa\n",
    "test_points_1 = regular_on_rectangle(grid=[30, 15], random_component=0.25, x_lim=[-5, 15], y_lim=[20, 25])\n",
    "assert type(test_points_1) == pd.DataFrame\n",
    "assert test_points_1.shape == (450, 2)\n",
    "assert list(test_points_1.columns) == [\"X\", \"Y\"]\n",
    "assert np.min(test_points_1[\"X\"]) >= -5\n",
    "assert np.max(test_points_1[\"X\"]) <= 15\n",
    "assert np.min(test_points_1[\"Y\"]) >= 20\n",
    "assert np.max(test_points_1[\"Y\"]) <= 25\n",
    "\n",
    "test_points_2 = regular_on_rectangle(grid=[50, 50], random_component=0.47, x_lim=[-10, 10], y_lim=[-30, -10])\n",
    "assert type(test_points_2) == pd.DataFrame\n",
    "assert test_points_2.shape == (2500, 2)\n",
    "assert list(test_points_2.columns) == [\"X\", \"Y\"]\n",
    "assert np.min(test_points_2[\"X\"]) >= -10\n",
    "assert np.max(test_points_2[\"X\"]) <= 10\n",
    "assert np.min(test_points_2[\"Y\"]) >= -30\n",
    "assert np.max(test_points_2[\"Y\"]) <= -10"
   ]
  },
  {
   "cell_type": "markdown",
   "id": "52071ab2",
   "metadata": {
    "deletable": false,
    "editable": false,
    "nbgrader": {
     "cell_type": "markdown",
     "checksum": "6478329c52a51f30fd14eb00f5e85ae0",
     "grade": false,
     "grade_id": "cell-ab531b0d3b299b73",
     "locked": true,
     "schema_version": 3,
     "solution": false,
     "task": false
    },
    "tags": []
   },
   "source": [
    "#### b) Wygenerowanie procesu i wizualizacja\n",
    "\n",
    "Wykorzystaj przygotowaną funkcję do wygenerowania następującego rozkładu punktów i przedstaw go w postaci wykresu punktowego.\n",
    "\n",
    "Parametry rozkładu:\n",
    " - liczba punktów w poziomie: 20\n",
    " - liczba punktów w pionie: 10\n",
    " - wartość współczynnika określającego siłę komponentu losowego: 0.5\n",
    " - zakres wartości współrzędnej x: $[20, 40]$\n",
    " - zakres wartości współrzędnej y: $[-10, 0]$"
   ]
  },
  {
   "cell_type": "code",
   "execution_count": null,
   "id": "98e4935b",
   "metadata": {
    "deletable": false,
    "nbgrader": {
     "cell_type": "code",
     "checksum": "ed7aaa76fbcd519ef7ee77a91b164b1b",
     "grade": true,
     "grade_id": "cell-cdcecd5de1baaf3b",
     "locked": false,
     "points": 2,
     "schema_version": 3,
     "solution": true,
     "task": false
    },
    "tags": []
   },
   "outputs": [],
   "source": [
    "# YOUR CODE HERE\n",
    "plt.subplots(figsize=(16,6))\n",
    "points = regular_on_rectangle(grid=[20, 10], random_component=0.5, x_lim=[20, 40], y_lim=[-10, 0])\n",
    "plt.plot(points[\"X\"], points[\"Y\"], marker='o', color='k', linestyle='none')\n",
    "plt.title(\"Proces regularny z komponentem losowym \",fontsize=16)\n",
    "plt.xlabel(\"X\",fontsize=14)\n",
    "plt.ylabel(\"Y\",fontsize=14)\n",
    "plt.xlim([20,40])\n",
    "plt.ylim([-10,0])\n",
    "plt.show()"
   ]
  },
  {
   "cell_type": "markdown",
   "id": "f15f860f",
   "metadata": {
    "deletable": false,
    "editable": false,
    "nbgrader": {
     "cell_type": "markdown",
     "checksum": "9defffb4ecb362e4237670cb2122ef0c",
     "grade": false,
     "grade_id": "cell-0f09ad83fca941a4",
     "locked": true,
     "schema_version": 3,
     "solution": false,
     "task": false
    },
    "tags": []
   },
   "source": [
    "### Zadanie 2: Jednorodny proces punktowy Poissona w obrębie prostokątnego obszaru [7 pkt]\n",
    "\n",
    "#### a) Przygotowanie funkcji\n",
    "Przygotuj funkcję `homogeneous_poisson_on_rectangle()`, która będzie generować jednorodny proces punktowy Poissona w obrębie prostokątnego obszaru.\n",
    "\n",
    "Algorytm postępowania:\n",
    "1. Losujemy liczbę punktów $n$ z rozkładu Poissona o wartości oczekiwanej równej $i \\cdot a$, gdzie $i$ to intensywność procesu, a $a$ jest powierzchnią obszaru, na którym generujemy punkty.\n",
    "2. Niezależnie od siebie losujemy wartości współrzędnych $n$ punktów z rozkładów jednostajnych na przedziałach określonych przez przyjęte zakresy wartości współrzędnych $x$ i $y$."
   ]
  },
  {
   "cell_type": "code",
   "execution_count": null,
   "id": "172c1d71",
   "metadata": {
    "deletable": false,
    "nbgrader": {
     "cell_type": "code",
     "checksum": "27b901bb7da5a68fab1017dfe33c1014",
     "grade": false,
     "grade_id": "cell-496fc81b5caba229",
     "locked": false,
     "schema_version": 3,
     "solution": true,
     "task": false
    },
    "tags": []
   },
   "outputs": [],
   "source": [
    "def homogeneous_poisson_on_rectangle(intensity, x_lim, y_lim):\n",
    "    \"\"\"\n",
    "    # liczba punktów intensywnosc-srednia oczekiwana wartosc w danym kwadraciku \n",
    "    # intensywnosc* Pole powierzchni - argument do funkcji z ktorej wyciagamy wartoscliczby puntkow  z rozkladu poissona \n",
    "    ich lokalizacja jest z rozkladu normalnego \n",
    "    Parameters\n",
    "    \n",
    "    im nisza intensywnosc funkcji intensywnosci 1-i/imax  (0,1) \n",
    "    R(x,y)=x\n",
    "    ------- \n",
    "    intensity: float\n",
    "        Liczba dodatnia określająca intensywność procesu punktowego.\n",
    "    x_lim: list\n",
    "        Lista określająca zakres wartości współrzędnej X.\n",
    "        Przykład: [0, 10]\n",
    "    y_lim: list\n",
    "        Lista określająca zakres wartości współrzędnej Y.\n",
    "        Przykład: [0, 10]   \n",
    "    \n",
    "    Returns\n",
    "    -------\n",
    "    points: DataFrame\n",
    "        Tablica zawierająca dwie kolumny ze współrzędnymi punktów opisane jako \"X\" i \"Y\".\n",
    "    \"\"\"\n",
    "\n",
    "    # calculate area to generate points on\n",
    "    area = ( x_lim[1] - x_lim[0] ) * ( y_lim[1] - y_lim[0] )\n",
    "\n",
    "    # draw number of points from Poisson distribution\n",
    "    n_points = np.random.poisson( area * intensity, 1 )\n",
    "\n",
    "    # draw points coordinates from uniform distribution\n",
    "    x_points = np.random.uniform( x_lim[0], x_lim[1], n_points ) \n",
    "    y_points = np.random.uniform( y_lim[0], y_lim[1], n_points )\n",
    "\n",
    "    # create dataframe out of coordinates\n",
    "    points = pd.DataFrame( { \"X\" : x_points, \"Y\" : y_points } )\n",
    "\n",
    "    return points"
   ]
  },
  {
   "cell_type": "code",
   "execution_count": null,
   "id": "ff1df8df",
   "metadata": {
    "deletable": false,
    "editable": false,
    "nbgrader": {
     "cell_type": "code",
     "checksum": "b8396ce601262d896e19ad4990fe2530",
     "grade": true,
     "grade_id": "cell-bd01fb3f7c8e0e46",
     "locked": true,
     "points": 5,
     "schema_version": 3,
     "solution": false,
     "task": false
    },
    "tags": []
   },
   "outputs": [],
   "source": [
    "# Komórka testowa\n",
    "test_points_3 = homogeneous_poisson_on_rectangle(intensity=5, x_lim=[-11, 18], y_lim=[5, 10])\n",
    "assert type(test_points_3) == pd.DataFrame\n",
    "assert test_points_3.shape[1] == 2\n",
    "assert list(test_points_3.columns) == [\"X\", \"Y\"]\n",
    "assert np.min(test_points_3[\"X\"]) >= -11\n",
    "assert np.max(test_points_3[\"X\"]) <= 18\n",
    "assert np.min(test_points_3[\"Y\"]) >= 5\n",
    "assert np.max(test_points_3[\"Y\"]) <= 10\n",
    "\n",
    "test_points_4 = homogeneous_poisson_on_rectangle(intensity=2.5, x_lim=[13 ,27], y_lim=[-15, -8])\n",
    "assert type(test_points_4) == pd.DataFrame\n",
    "assert test_points_4.shape[1] == 2\n",
    "assert list(test_points_4.columns) == [\"X\", \"Y\"]\n",
    "assert np.min(test_points_4[\"X\"]) >= 13\n",
    "assert np.max(test_points_4[\"X\"]) <= 27\n",
    "assert np.min(test_points_4[\"Y\"]) >= -15\n",
    "assert np.max(test_points_4[\"Y\"]) <= -8"
   ]
  },
  {
   "cell_type": "markdown",
   "id": "06c31568",
   "metadata": {
    "deletable": false,
    "editable": false,
    "nbgrader": {
     "cell_type": "markdown",
     "checksum": "59ddb434e779c37849fa873dd98e0b29",
     "grade": false,
     "grade_id": "cell-ad676a567d7e759e",
     "locked": true,
     "schema_version": 3,
     "solution": false,
     "task": false
    },
    "tags": []
   },
   "source": [
    "#### b) Wygenerowanie procesu i wizualizacja\n",
    "Wykorzystaj przygotowaną funkcję do wygenerowania następującego rozkładu punktów i przedstaw go w postaci wykresu punktowego.\n",
    "\n",
    "Parametry rozkładu:\n",
    " - intensywność procesu: 10\n",
    " - zakres wartości współrzędnej x: $[-10, 10]$\n",
    " - zakres wartości współrzędnej y: $[5, 15]$"
   ]
  },
  {
   "cell_type": "code",
   "execution_count": null,
   "id": "b3fb3bc3",
   "metadata": {
    "deletable": false,
    "nbgrader": {
     "cell_type": "code",
     "checksum": "6f058e7bdc98599466925e50816c27a0",
     "grade": true,
     "grade_id": "cell-720584fea7bd395c",
     "locked": false,
     "points": 2,
     "schema_version": 3,
     "solution": true,
     "task": false
    },
    "tags": []
   },
   "outputs": [],
   "source": [
    "# YOUR CODE HERE\n",
    "plt.subplots(figsize=(16,8))\n",
    "points = homogeneous_poisson_on_rectangle(intensity=10, x_lim=[-10, 10], y_lim=[5, 15])\n",
    "plt.plot(points[\"X\"],points[\"Y\"],marker='o',linestyle='none')\n",
    "plt.title(\"Jednorodny proces punktowy Poissona \",fontsize=16)\n",
    "plt.xlabel(\"X\",fontsize=14)\n",
    "plt.ylabel(\"Y\",fontsize=14)\n",
    "plt.xlim([-10,10])\n",
    "plt.ylim([5,15])\n",
    "plt.show()"
   ]
  },
  {
   "cell_type": "markdown",
   "id": "dea8f503",
   "metadata": {
    "deletable": false,
    "editable": false,
    "nbgrader": {
     "cell_type": "markdown",
     "checksum": "a8c880d21463be19ec005432f0ba8973",
     "grade": false,
     "grade_id": "cell-bffdfc71573b0f75",
     "locked": true,
     "schema_version": 3,
     "solution": false,
     "task": false
    },
    "tags": []
   },
   "source": [
    "### Zadanie 3: Niejednorodny proces punktowy Poissona w obrębie prostokątnego obszaru [12 pkt]\n",
    "\n",
    "#### a) Przygotowanie funkcji\n",
    "Przygotuj funkcję `unhomogeneous_poisson_on_rectangle()`, która będzie generować niejednorodny proces punktowy Poissona w obrębie prostokątnego obszaru.\n",
    "\n",
    "Algorytm postępowania:\n",
    "1. Generujemy punkty z wykorzystaniem jednorodnego procesu Poissona przyjmując intensywność procesu równą maksymalnej wartości jaką osiąga funkcja intensywności w analizowanym obszarze ($i_{max}$).\n",
    "2. Przerzedzamy rozkład usuwając z niego punkty z prawdopodobieństwem równym $1-\\frac{i}{i_{max}}$, gdzie $i$ to wartość jaką przyjmuje funkcja intensywności dla współrzędnych danego punktu, a $i_{max}$ to maksymalna wartość jaką funkcja intensywności osiąga w granicach analizowanego obszaru.\n",
    "\n",
    "\n",
    "Uwagi do wykonania zadania:\n",
    "- W celu znalezienia maksymanej wartości funkcji intensywności w obrębie obszaru należy skorzystać z funkcji `scipy.optimize.minimize()`.\n",
    "- W części zadania dotyczącej generowania jednorodnego procesu punktowego Poissona nie należy dublować kodu napisanego w ramach zadania 2, a jedynie wywołać przygotowaną w ramach tego zadania funkcję `homogeneous_poisson_on_rectangle()`."
   ]
  },
  {
   "cell_type": "code",
   "execution_count": null,
   "id": "0897b7e8",
   "metadata": {
    "deletable": false,
    "nbgrader": {
     "cell_type": "code",
     "checksum": "8db55580e9b32d323529a8c92c70f52f",
     "grade": false,
     "grade_id": "cell-4258d05645de2b5e",
     "locked": false,
     "schema_version": 3,
     "solution": true,
     "task": false
    },
    "tags": []
   },
   "outputs": [],
   "source": [
    "def unhomogeneous_poisson_on_rectangle(intensity_function, x_lim, y_lim):\n",
    "    \"\"\"\n",
    "    Parameters\n",
    "    -------\n",
    "    intensity_function: function\n",
    "        Funkcja przyjmująca dwa argumenty (wartości współrzędnyych X i Y pojedynczego punktu\n",
    "        lub dwie macierze 1D ze współrzędnymi X i Y wielu punktów) i zwracająca pojedynczą\n",
    "        wartość lub macierz 1D wartości funkcji opisującej intensywność procesu dla tych współrzędnych.\n",
    "    x_lim: list\n",
    "        Lista określająca zakres wartości współrzędnej X.\n",
    "        Przykład: [0, 10]\n",
    "    y_lim: list\n",
    "        Lista określająca zakres wartości współrzędnej Y.\n",
    "        Przykład: [0, 10] \n",
    "    \n",
    "    Returns\n",
    "    -------\n",
    "    points: DataFrame\n",
    "        Tablica zawierająca dwie kolumny ze współrzędnymi punktów opisane jako \"X\" i \"Y\".\n",
    "    \"\"\"\n",
    "    # YOUR CODE HERE\n",
    "    raise NotImplementedError()"
   ]
  },
  {
   "cell_type": "code",
   "execution_count": null,
   "id": "3eecb7fe",
   "metadata": {
    "deletable": false,
    "editable": false,
    "nbgrader": {
     "cell_type": "code",
     "checksum": "1d9962ea7b9cc0ef7243cc5123699f02",
     "grade": true,
     "grade_id": "cell-c637432eb96e6978",
     "locked": true,
     "points": 10,
     "schema_version": 3,
     "solution": false,
     "task": false
    },
    "tags": []
   },
   "outputs": [],
   "source": [
    "# Komórka testowa\n",
    "def test_intensity_function(x, y):\n",
    "    return x + 20\n",
    "\n",
    "test_points_5 = unhomogeneous_poisson_on_rectangle(test_intensity_function, x_lim=[-15, 10], y_lim=[5, 15])\n",
    "assert type(test_points_5) == pd.DataFrame\n",
    "assert test_points_5.shape[1] == 2\n",
    "assert list(test_points_5.columns) == [\"X\", \"Y\"]\n",
    "assert np.min(test_points_5[\"X\"]) >= -15\n",
    "assert np.max(test_points_5[\"X\"]) <= 10\n",
    "assert np.min(test_points_5[\"Y\"]) >= 5\n",
    "assert np.max(test_points_5[\"Y\"]) <= 15\n",
    "\n",
    "test_points_6 = unhomogeneous_poisson_on_rectangle(test_intensity_function, x_lim=[7, 21], y_lim=[-14, -1])\n",
    "assert type(test_points_6) == pd.DataFrame\n",
    "assert test_points_6.shape[1] == 2\n",
    "assert list(test_points_6.columns) == [\"X\", \"Y\"]\n",
    "assert np.min(test_points_6[\"X\"]) >= 7\n",
    "assert np.max(test_points_6[\"X\"]) <= 21\n",
    "assert np.min(test_points_6[\"Y\"]) >= -14\n",
    "assert np.max(test_points_6[\"Y\"]) <= -1"
   ]
  },
  {
   "cell_type": "markdown",
   "id": "3d55d7aa",
   "metadata": {
    "deletable": false,
    "editable": false,
    "nbgrader": {
     "cell_type": "markdown",
     "checksum": "17893ed574be8988fd9bf5a81d0cbb5d",
     "grade": false,
     "grade_id": "cell-6ad91947ac3ee885",
     "locked": true,
     "schema_version": 3,
     "solution": false,
     "task": false
    },
    "tags": []
   },
   "source": [
    "#### b) Wygenerowanie procesu i wizualizacja\n",
    "Wykorzystaj przygotowaną funkcję do wygenerowania następującego rozkładu punktów i przedstaw go w postaci wykresu punktowego.\n",
    "\n",
    "Parametry rozkładu:\n",
    " - intensywność procesu: f(x, y) = 2*x + 5*y\n",
    " - zakres wartości współrzędnej x: $[0, 20]$\n",
    " - zakres wartości współrzędnej y: $[0, 10]$"
   ]
  },
  {
   "cell_type": "code",
   "execution_count": null,
   "id": "7a0f2c7b",
   "metadata": {
    "deletable": false,
    "nbgrader": {
     "cell_type": "code",
     "checksum": "59d1350db9cc577bc543629c6036a399",
     "grade": true,
     "grade_id": "cell-3b2e16df836b7a03",
     "locked": false,
     "points": 2,
     "schema_version": 3,
     "solution": true,
     "task": false
    },
    "tags": []
   },
   "outputs": [],
   "source": [
    "# YOUR CODE HERE\n",
    "raise NotImplementedError()"
   ]
  },
  {
   "cell_type": "markdown",
   "id": "fab3241d",
   "metadata": {
    "deletable": false,
    "editable": false,
    "nbgrader": {
     "cell_type": "markdown",
     "checksum": "9d47b7db7cc87b7383e8af0499b14906",
     "grade": false,
     "grade_id": "cell-4237381444233047",
     "locked": true,
     "schema_version": 3,
     "solution": false,
     "task": false
    },
    "tags": []
   },
   "source": [
    "### Zadanie 4: Proces punktowy Matérna w obrębie prostokątnego obszaru [12 pkt]\n",
    "\n",
    "#### a) Przygotowanie funkcji\n",
    "Przygotuj funkcję `materna_on_rectangle()`, która będzie generować proces punktowy Materna w obrębie prostokątnego obszaru.\n",
    "\n",
    "Algorytm postępowania:\n",
    "1. Rozszerzamy analizowany obszar o bufor równy wartości parametru `cluster_radius`.\n",
    "2. W obrębie rozszerzonego obszaru generujemy punkty w wykorzystaniem jednorodnego procesu Poissona o intensywności równej wartości parametru `parent_intensity`.\n",
    "3. Wokół każdego z wygenerowanych punktów, w okręgu o promieniu równym wartości parametru `cluster_radius`, generujemy punkty z wykorzystaniem jednorodnego procesu Poissona o intensywności równej wartości parametru `daughter_intensity`.\n",
    "4. Usuwamy z rozkładu wszystkie punkty leżące poza analizowanym (nierozszerzonym) obszarem.\n",
    "\n",
    "Uwagi do wykonania zadania:\n",
    "- Punkty wygenerowane w ramach procesu macierzystego (centra klastrów) nie są częścią wynikowego rozkładu punktów.\n",
    "- W części zadania dotyczącej generowania jednorodnego procesu punktowego Poissona nie należy dublować kodu napisanego w ramach zadania 2, a jedynie wywołać przygotowaną w ramach tego zadania funkcję `homogeneous_poisson_on_rectangle()`."
   ]
  },
  {
   "cell_type": "code",
   "execution_count": null,
   "id": "4226e802",
   "metadata": {
    "deletable": false,
    "nbgrader": {
     "cell_type": "code",
     "checksum": "5dbb567c6680c8a0037c465663e1de4a",
     "grade": false,
     "grade_id": "cell-37508c39f24a0801",
     "locked": false,
     "schema_version": 3,
     "solution": true,
     "task": false
    },
    "tags": []
   },
   "outputs": [],
   "source": [
    "def materna_on_rectangle(parent_intensity, daughter_intensity, cluster_radius, x_lim, y_lim):\n",
    "    \"\"\"\n",
    "    Parameters\n",
    "    -------\n",
    "    parent_intensity: float\n",
    "        Liczba dodatnia określająca intensywność macierzystego procesu punktowego.\n",
    "    daughter_intensity: float\n",
    "        Liczba dodatnia określająca intensywność potomnego procesu punktowego.\n",
    "    cluster_radius: float\n",
    "        Liczba dodatnia określająca promień generowanych klastrów.\n",
    "    x_lim: list\n",
    "        Lista określająca zakres wartości współrzędnej X.\n",
    "        Przykład: [0, 10]\n",
    "    y_lim: list\n",
    "        Lista określająca zakres wartości współrzędnej Y.\n",
    "        Przykład: [0, 10]   \n",
    "    \n",
    "    rozkład zklasteryzowany; rozszerzamy obszar o l ktory ma generowac punkty o \n",
    "    w okol kazdego z tych punktow generujemy punkty z rozdkladu poisona o promieniu l  - mozna skorzystac z for; potem usuwamy ten nad obszar \n",
    "    *jak wygenerowac punkty w tym obszarze - wywolac funkcje z 2 zadania i przefiltrowac i usunac te ktore sa dalej niz r\n",
    "    \n",
    "    Returns\n",
    "    -------\n",
    "    points: DataFrame\n",
    "        Tablica zawierająca dwie kolumny ze współrzędnymi punktów opisane jako \"X\" i \"Y\".\n",
    "    \"\"\"\n",
    "    points = homogeneous_poisson_on_rectangle(parent_intensity,[ x_lim[0] - cluster_radius, x_lim[1] + cluster_radius], [ y_lim[0] - cluster_radius, y_lim[1] + cluster_radius ])\n",
    "    xy=pd.DataFrame({\"X\":[],\"Y\":[]})\n",
    "    \n",
    "    for i in range(len(points)):\n",
    "        pp = homogeneous_poisson_on_rectangle(daughter_intensity,[points[\"X\"][i]-cluster_radius,points[\"X\"][i]+cluster_radius],[points[\"Y\"][i]-cluster_radius,points[\"Y\"][i]+cluster_radius])\n",
    "        pp= pp[ np.sqrt( (pp[\"X\"] - points[\"X\"][i])** 2 + (pp[\"Y\"] -  points[\"Y\"][i])** 2 ) <= cluster_radius ]\n",
    "        xy = pd.concat([xy, pp], ignore_index=True)\n",
    "    return xy[ (xy[\"X\"] >= x_lim[0]) & (xy[\"X\"] <= x_lim[1]) & (xy[\"Y\"] >= y_lim[0]) & (xy[\"Y\"] <= y_lim[1]) ]"
   ]
  },
  {
   "cell_type": "code",
   "execution_count": null,
   "id": "190a4011",
   "metadata": {
    "deletable": false,
    "editable": false,
    "nbgrader": {
     "cell_type": "code",
     "checksum": "3f086f0aa05b322faafa96bb8480d3fb",
     "grade": true,
     "grade_id": "cell-5000d87087be8234",
     "locked": true,
     "points": 10,
     "schema_version": 3,
     "solution": false,
     "task": false
    },
    "tags": []
   },
   "outputs": [],
   "source": [
    "# Komórka testowa\n",
    "test_points_7 = materna_on_rectangle(parent_intensity=0.12, daughter_intensity=5, cluster_radius=1.2, x_lim=[-12, 17], y_lim=[-20,-4])\n",
    "assert type(test_points_7) == pd.DataFrame\n",
    "assert test_points_7.shape[1] == 2\n",
    "assert list(test_points_7.columns) == [\"X\", \"Y\"]\n",
    "assert np.min(test_points_7[\"X\"]) >= -12\n",
    "assert np.max(test_points_7[\"X\"]) <= 17\n",
    "assert np.min(test_points_7[\"Y\"]) >= -20\n",
    "assert np.max(test_points_7[\"Y\"]) <= -4\n",
    "\n",
    "test_points_8 = materna_on_rectangle(parent_intensity=0.4, daughter_intensity=20, cluster_radius=0.5, x_lim=[-25, -8], y_lim=[-2, 14])\n",
    "assert type(test_points_8) == pd.DataFrame\n",
    "assert test_points_8.shape[1] == 2\n",
    "assert list(test_points_8.columns) == [\"X\", \"Y\"]\n",
    "assert np.min(test_points_8[\"X\"]) >= -25\n",
    "assert np.max(test_points_8[\"X\"]) <= -8\n",
    "assert np.min(test_points_8[\"Y\"]) >= -2\n",
    "assert np.max(test_points_8[\"Y\"]) <= 14"
   ]
  },
  {
   "cell_type": "markdown",
   "id": "7627a218",
   "metadata": {
    "deletable": false,
    "editable": false,
    "nbgrader": {
     "cell_type": "markdown",
     "checksum": "25a6e2adea2691538fb6520117ea9e2d",
     "grade": false,
     "grade_id": "cell-fcf75d96fb89b7d6",
     "locked": true,
     "schema_version": 3,
     "solution": false,
     "task": false
    },
    "tags": []
   },
   "source": [
    "#### b) Wygenerowanie procesu i wizualizacja\n",
    "Wykorzystaj przygotowaną funkcję do wygenerowania następującego rozkładu punktów i przedstaw go w postaci wykresu punktowego.\n",
    "\n",
    "Parametry  rozkładu:\n",
    " - intensywność procesu macierzystego: 0.2\n",
    " - intensywność procesu potomnego: 10\n",
    " - promień klastra: 1\n",
    " - zakres wartości współrzędnej x: $[-15, 5]$\n",
    " - zakres wartości współrzędnej y: $[10, 20]$"
   ]
  },
  {
   "cell_type": "code",
   "execution_count": null,
   "id": "1ac9057e",
   "metadata": {
    "deletable": false,
    "nbgrader": {
     "cell_type": "code",
     "checksum": "61595cf5bf7367ef0e499fb5ea2d00e8",
     "grade": true,
     "grade_id": "cell-7252b987abdc121f",
     "locked": false,
     "points": 2,
     "schema_version": 3,
     "solution": true,
     "task": false
    },
    "scrolled": false,
    "tags": []
   },
   "outputs": [],
   "source": [
    "# YOUR CODE HERE\n",
    "plt.subplots(figsize=(16,8))\n",
    "points = materna_on_rectangle(parent_intensity=0.2, daughter_intensity=10, cluster_radius=1, x_lim=[-15, 5], y_lim=[10,20])\n",
    "plt.plot(points[\"X\"],points[\"Y\"],marker='o',linestyle='none')\n",
    "plt.title(\"Proces punktowy Matérna\",fontsize=16)\n",
    "plt.xlabel(\"X\",fontsize=14)\n",
    "plt.ylabel(\"Y\",fontsize=14)\n",
    "plt.xlim([-15,5])\n",
    "plt.ylim([10,20])\n",
    "plt.show()"
   ]
  },
  {
   "cell_type": "markdown",
   "id": "4c4589c3",
   "metadata": {
    "deletable": false,
    "editable": false,
    "nbgrader": {
     "cell_type": "markdown",
     "checksum": "583a696729d35ec176d959a0daec9ab9",
     "grade": false,
     "grade_id": "cell-099d07d8447d3a89",
     "locked": true,
     "schema_version": 3,
     "solution": false,
     "task": false
    },
    "tags": []
   },
   "source": [
    "### Zadanie 5: Proces punktowy Thomasa w obrębie prostokątnego obszaru [12 pkt]\n",
    "\n",
    "#### a) Przygotowanie funkcji\n",
    "Przygotuj funkcję `thomas_on_rectangle()`, która będzie generować proces punktowy Thomasa w obrębie prostokątnego obszaru.\n",
    "\n",
    "Algorytm postępowania:\n",
    "1. Rozszerzamy analizowany obszar o bufor, którego wielkość jest zależna od wartości parametru `cluster_sigma` (na potrzeby zadania przyjmijmy 4-krotność wartości tego parametru).\n",
    "2. W obrębie rozszerzonego obszaru generujemy punkty w wykorzystaniem jednorodnego procesu Poissona o intensywności równej wartości parametru `parent_intensity`.\n",
    "3. Dla każdego z wygenerowanych punktów (centrów klastrów):\n",
    "    - Losujemy liczbę punktów znajdujących się w obrębie danego klastra $n_c$ z rozkładu Poissona o wartości oczekiwanej równej wartości parametru `mean_cluster_size`.\n",
    "    - Niezależnie od siebie losujemy wartości współrzędnych $n_c$ punktów z rozkładów normalnych o wartości oczekiwanej równej współrzędnej punktu stanowiącego centrum klastra i odchyleniu standardowym równym wartości parametru `cluster_sigma`.\n",
    "4. Usuwamy z rozkładu wszystkie punkty leżące poza analizowanym (nierozszerzonym) obszarem.\n",
    "\n",
    "Uwagi do wykonania zadania:\n",
    "- Punkty wygenerowane w ramach procesu macierzystego (centra klastrów) nie są częścią wynikowego rozkładu punktów.\n",
    "- W części zadania dotyczącej generowania jednorodnego procesu punktowego Poissona nie należy dublować kodu napisanego w ramach zadania 2, a jedynie wywołać przygotowaną w ramach tego zadania funkcję `homogeneous_poisson_on_rectangle()`."
   ]
  },
  {
   "cell_type": "code",
   "execution_count": null,
   "id": "61858d1d",
   "metadata": {
    "deletable": false,
    "nbgrader": {
     "cell_type": "code",
     "checksum": "153ef82eb469b018cf5d521dcc66de91",
     "grade": false,
     "grade_id": "cell-4486abd11db366a8",
     "locked": false,
     "schema_version": 3,
     "solution": true,
     "task": false
    },
    "tags": []
   },
   "outputs": [],
   "source": [
    "def thomas_on_rectangle(parent_intensity, mean_cluster_size, cluster_sigma, x_lim, y_lim):\n",
    "    \"\"\"\n",
    "    Parameters\n",
    "    -------\n",
    "    parent_intensity: float\n",
    "        Liczba dodatnia określająca intensywność macierzystego procesu punktowego.\n",
    "    mean_cluster_size: float\n",
    "        Liczba dodatnia określająca oczekiwaną liczebność generowanych klastrów.\n",
    "    cluster_sigma: float\n",
    "        Liczba dodatnia określająca odchylenie standardowe rozkładu wykorzystywanego w procesie generowania klastrów.\n",
    "    x_lim: list\n",
    "        Lista określająca zakres wartości współrzędnej X.\n",
    "        Przykład: [0, 10]\n",
    "    y_lim: list\n",
    "        Lista określająca zakres wartości współrzędnej Y.\n",
    "        Przykład: [0, 10]\n",
    "        \n",
    "    Returns\n",
    "    -------\n",
    "    points: DataFrame\n",
    "        Tablica zawierająca dwie kolumny ze współrzędnymi punktów opisane jako \"X\" i \"Y\".\n",
    "    \"\"\"\n",
    "    # generate centers of clusters in broadened area\n",
    "    centers = homogeneous_poisson_on_rectangle( parent_intensity, [x_lim[0] - 4 * cluster_sigma, x_lim[1] + 4 * cluster_sigma],\n",
    "                                               [y_lim[0] - 4 * cluster_sigma, y_lim[1] + 4 * cluster_sigma] )\n",
    "    \n",
    "    # create empty dataframe to store points coords\n",
    "    points = pd.DataFrame( columns= [\"X\", \"Y\"] )\n",
    "\n",
    "    # draw points for each cluster center from normal distribution\n",
    "    for center in centers.itertuples():\n",
    "        # draw number of points for cluster from Poisson distribution\n",
    "        n_points = np.random.poisson(mean_cluster_size)\n",
    "\n",
    "        # draw points coord from normal distribution\n",
    "        x_points = np.random.normal( center.X, cluster_sigma, n_points )\n",
    "        y_points = np.random.normal( center.Y, cluster_sigma, n_points )\n",
    "        \n",
    "        # append to result dataframe\n",
    "        xy_df = pd.DataFrame( { \"X\" : x_points, \"Y\" : y_points } )\n",
    "        points = pd.concat( [xy_df, points] )\n",
    "    \n",
    "    # narrow area to original size\n",
    "    points = points[ (points[\"X\"] >= x_lim[0]) & (points[\"X\"] <= x_lim[1]) & (points[\"Y\"] >= y_lim[0]) & (points[\"Y\"] <= y_lim[1]) ]\n",
    "    return points"
   ]
  },
  {
   "cell_type": "code",
   "execution_count": null,
   "id": "0b8b9351",
   "metadata": {
    "deletable": false,
    "editable": false,
    "nbgrader": {
     "cell_type": "code",
     "checksum": "1ac1f6e92b64e59cc0f039405c1a5019",
     "grade": true,
     "grade_id": "cell-797f40b9afe7071f",
     "locked": true,
     "points": 10,
     "schema_version": 3,
     "solution": false,
     "task": false
    },
    "tags": []
   },
   "outputs": [],
   "source": [
    "# Komórka testowa\n",
    "test_points_9 = thomas_on_rectangle(parent_intensity=0.13, mean_cluster_size=42, cluster_sigma=0.25, x_lim=[-12, 17], y_lim=[-20,-4])\n",
    "assert type(test_points_9) == pd.DataFrame\n",
    "assert test_points_9.shape[1] == 2\n",
    "assert list(test_points_9.columns) == [\"X\", \"Y\"]\n",
    "assert np.min(test_points_9[\"X\"]) >= -12\n",
    "assert np.max(test_points_9[\"X\"]) <= 17\n",
    "assert np.min(test_points_9[\"Y\"]) >= -20\n",
    "assert np.max(test_points_9[\"Y\"]) <= -4\n",
    "\n",
    "test_points_10 = thomas_on_rectangle(parent_intensity=0.54, mean_cluster_size=15, cluster_sigma=0.75, x_lim=[-25, -8], y_lim=[-2, 14])\n",
    "assert type(test_points_10) == pd.DataFrame\n",
    "assert test_points_10.shape[1] == 2\n",
    "assert list(test_points_10.columns) == [\"X\", \"Y\"]\n",
    "assert np.min(test_points_10[\"X\"]) >= -25\n",
    "assert np.max(test_points_10[\"X\"]) <= -8\n",
    "assert np.min(test_points_10[\"Y\"]) >= -2\n",
    "assert np.max(test_points_10[\"Y\"]) <= 14"
   ]
  },
  {
   "cell_type": "markdown",
   "id": "6d1bca9d",
   "metadata": {
    "deletable": false,
    "editable": false,
    "nbgrader": {
     "cell_type": "markdown",
     "checksum": "894e9b3f981bd8e73efb811bd6ed1081",
     "grade": false,
     "grade_id": "cell-0767c98d41be3cdd",
     "locked": true,
     "schema_version": 3,
     "solution": false,
     "task": false
    },
    "tags": []
   },
   "source": [
    "#### b) Wygenerowanie procesu i wizualizacja\n",
    "Wykorzystaj przygotowaną funkcję do wygenerowania następującego rozkładu punktów i przedstaw go w postaci wykresu punktowego.\n",
    "\n",
    "Parametry rozkładu:\n",
    " - intensywność procesu macierzystego: 0.2\n",
    " - średnia liczebność klastra: 30\n",
    " - odchylenie standardowe klastra: 0.5\n",
    " - zakres wartości współrzędnej x: $[25, 45]$\n",
    " - zakres wartości współrzędnej y: $[-10, 0]$"
   ]
  },
  {
   "cell_type": "code",
   "execution_count": null,
   "id": "c3d41571",
   "metadata": {
    "deletable": false,
    "nbgrader": {
     "cell_type": "code",
     "checksum": "0b40ef72531503af8bf846ae2b5ccc15",
     "grade": true,
     "grade_id": "cell-0e700b0a0fdef851",
     "locked": false,
     "points": 2,
     "schema_version": 3,
     "solution": true,
     "task": false
    },
    "tags": []
   },
   "outputs": [],
   "source": [
    "# YOUR CODE HERE\n",
    "plt.subplots(figsize=(16,8))\n",
    "points = thomas_on_rectangle(parent_intensity=0.2, mean_cluster_size=30, cluster_sigma=0.5, x_lim=[25, 45], y_lim=[-10,0])\n",
    "plt.plot(points[\"X\"],points[\"Y\"],marker='o',linestyle='none')\n",
    "plt.title(\"Proces punktowy Thomasa\",fontsize=16)\n",
    "plt.xlabel(\"X\",fontsize=14)\n",
    "plt.ylabel(\"Y\",fontsize=14)\n",
    "plt.xlim([25,45])\n",
    "plt.ylim([-10,0])\n",
    "plt.show()"
   ]
  }
 ],
 "metadata": {
  "kernelspec": {
   "display_name": "Python 3 (ipykernel)",
   "language": "python",
   "name": "python3"
  },
  "language_info": {
   "codemirror_mode": {
    "name": "ipython",
    "version": 3
   },
   "file_extension": ".py",
   "mimetype": "text/x-python",
   "name": "python",
   "nbconvert_exporter": "python",
   "pygments_lexer": "ipython3",
   "version": "3.11.5"
  }
 },
 "nbformat": 4,
 "nbformat_minor": 5
}
